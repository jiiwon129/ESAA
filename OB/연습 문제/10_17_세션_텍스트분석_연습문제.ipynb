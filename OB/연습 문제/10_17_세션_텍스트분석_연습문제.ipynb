{
 "cells": [
  {
   "cell_type": "markdown",
   "metadata": {
    "id": "1kpwaWyzo1Yr"
   },
   "source": [
    "# **문서 유사도 분석**\n",
    "* 각 단어를 축으로 하는 특성 공간(feature space)에서 문서들을 하나의 위치로 보고 특성 공간 상에서 거리를 이용해 두 문서의 유사성(similarity)을 측정하는 방식\n",
    "    * 코사인 유사도(cosine similarity) : 두 벡터 간의 각도의 코사인 값을 이용하여 유사도를 계산, 크기가 아닌 방향성에 중점, 벡터의 길이(문서의 길이)에 영향을 받지 않음"
   ]
  },
  {
   "cell_type": "code",
   "execution_count": 1,
   "metadata": {
    "colab": {
     "base_uri": "https://localhost:8080/"
    },
    "executionInfo": {
     "elapsed": 4611,
     "status": "ok",
     "timestamp": 1726635285338,
     "user": {
      "displayName": "김다정",
      "userId": "02105851183141909635"
     },
     "user_tz": -540
    },
    "id": "j9OJaKLoHt8v",
    "outputId": "6ae22a59-386a-4923-b5b9-2cda935b2c5a"
   },
   "outputs": [
    {
     "name": "stdout",
     "output_type": "stream",
     "text": [
      "Collecting koreanize-matplotlib\n",
      "  Downloading koreanize_matplotlib-0.1.1-py3-none-any.whl.metadata (992 bytes)\n",
      "Requirement already satisfied: matplotlib in c:\\users\\won-0\\anaconda3\\lib\\site-packages (from koreanize-matplotlib) (3.10.0)\n",
      "Requirement already satisfied: contourpy>=1.0.1 in c:\\users\\won-0\\anaconda3\\lib\\site-packages (from matplotlib->koreanize-matplotlib) (1.2.0)\n",
      "Requirement already satisfied: cycler>=0.10 in c:\\users\\won-0\\anaconda3\\lib\\site-packages (from matplotlib->koreanize-matplotlib) (0.11.0)\n",
      "Requirement already satisfied: fonttools>=4.22.0 in c:\\users\\won-0\\anaconda3\\lib\\site-packages (from matplotlib->koreanize-matplotlib) (4.51.0)\n",
      "Requirement already satisfied: kiwisolver>=1.3.1 in c:\\users\\won-0\\anaconda3\\lib\\site-packages (from matplotlib->koreanize-matplotlib) (1.4.4)\n",
      "Requirement already satisfied: numpy>=1.23 in c:\\users\\won-0\\anaconda3\\lib\\site-packages (from matplotlib->koreanize-matplotlib) (1.26.4)\n",
      "Requirement already satisfied: packaging>=20.0 in c:\\users\\won-0\\anaconda3\\lib\\site-packages (from matplotlib->koreanize-matplotlib) (24.1)\n",
      "Requirement already satisfied: pillow>=8 in c:\\users\\won-0\\anaconda3\\lib\\site-packages (from matplotlib->koreanize-matplotlib) (10.4.0)\n",
      "Requirement already satisfied: pyparsing>=2.3.1 in c:\\users\\won-0\\anaconda3\\lib\\site-packages (from matplotlib->koreanize-matplotlib) (3.1.2)\n",
      "Requirement already satisfied: python-dateutil>=2.7 in c:\\users\\won-0\\anaconda3\\lib\\site-packages (from matplotlib->koreanize-matplotlib) (2.9.0.post0)\n",
      "Requirement already satisfied: six>=1.5 in c:\\users\\won-0\\anaconda3\\lib\\site-packages (from python-dateutil>=2.7->matplotlib->koreanize-matplotlib) (1.16.0)\n",
      "Downloading koreanize_matplotlib-0.1.1-py3-none-any.whl (7.9 MB)\n",
      "   ---------------------------------------- 0.0/7.9 MB ? eta -:--:--\n",
      "   ----- ---------------------------------- 1.0/7.9 MB 5.6 MB/s eta 0:00:02\n",
      "   ------------- -------------------------- 2.6/7.9 MB 6.0 MB/s eta 0:00:01\n",
      "   ------------------- -------------------- 3.9/7.9 MB 6.0 MB/s eta 0:00:01\n",
      "   ------------------------- -------------- 5.0/7.9 MB 6.0 MB/s eta 0:00:01\n",
      "   ------------------------------- -------- 6.3/7.9 MB 6.0 MB/s eta 0:00:01\n",
      "   -------------------------------------- - 7.6/7.9 MB 6.0 MB/s eta 0:00:01\n",
      "   ---------------------------------------- 7.9/7.9 MB 5.9 MB/s eta 0:00:00\n",
      "Installing collected packages: koreanize-matplotlib\n",
      "Successfully installed koreanize-matplotlib-0.1.1\n"
     ]
    }
   ],
   "source": [
    "!pip install koreanize-matplotlib"
   ]
  },
  {
   "cell_type": "code",
   "execution_count": 43,
   "metadata": {
    "id": "7jEmmKL0o1Ys"
   },
   "outputs": [],
   "source": [
    "# 필요한 라이브러리를 import하세요.\n",
    "import pandas as pd\n",
    "import matplotlib.pyplot as plt\n",
    "import seaborn as sns\n",
    "import numpy as np\n",
    "from sklearn.feature_extraction.text import TfidfVectorizer\n",
    "from sklearn.metrics.pairwise import cosine_similarity\n",
    "\n",
    "plt.rcParams['font.family'] ='Malgun Gothic'\n",
    "plt.rcParams['axes.unicode_minus'] =False"
   ]
  },
  {
   "cell_type": "markdown",
   "metadata": {
    "id": "3MzjjX3ho1Ys"
   },
   "source": [
    "## **1. 데이터 로드**\n",
    "\n",
    "### 서울특별시 다산콜센터(☎120)의 주요 민원\n",
    "* 서울특별시 다산콜센터(☎120)의 주요 민원(자주 묻는 질문)에 대한 답변정보\n",
    "* https://opengov.seoul.go.kr/civilappeal/list"
   ]
  },
  {
   "cell_type": "code",
   "execution_count": 5,
   "metadata": {
    "colab": {
     "base_uri": "https://localhost:8080/"
    },
    "executionInfo": {
     "elapsed": 987,
     "status": "ok",
     "timestamp": 1726635292654,
     "user": {
      "displayName": "김다정",
      "userId": "02105851183141909635"
     },
     "user_tz": -540
    },
    "id": "s11JARRabZjF",
    "outputId": "3ee4150c-c601-415b-9694-1f60bd3656f8"
   },
   "outputs": [
    {
     "data": {
      "text/plain": [
       "(2645, 5)"
      ]
     },
     "execution_count": 5,
     "metadata": {},
     "output_type": "execute_result"
    }
   ],
   "source": [
    "df = pd.read_csv(\"https://bit.ly/seoul-120-text-csv\")\n",
    "df.shape"
   ]
  },
  {
   "cell_type": "code",
   "execution_count": 7,
   "metadata": {
    "colab": {
     "base_uri": "https://localhost:8080/",
     "height": 206
    },
    "executionInfo": {
     "elapsed": 330,
     "status": "ok",
     "timestamp": 1726635295021,
     "user": {
      "displayName": "김다정",
      "userId": "02105851183141909635"
     },
     "user_tz": -540
    },
    "id": "WJ7xaO9SHt8w",
    "outputId": "768679d1-efac-4e58-fcc9-10020dc9a7af"
   },
   "outputs": [
    {
     "data": {
      "text/html": [
       "<div>\n",
       "<style scoped>\n",
       "    .dataframe tbody tr th:only-of-type {\n",
       "        vertical-align: middle;\n",
       "    }\n",
       "\n",
       "    .dataframe tbody tr th {\n",
       "        vertical-align: top;\n",
       "    }\n",
       "\n",
       "    .dataframe thead th {\n",
       "        text-align: right;\n",
       "    }\n",
       "</style>\n",
       "<table border=\"1\" class=\"dataframe\">\n",
       "  <thead>\n",
       "    <tr style=\"text-align: right;\">\n",
       "      <th></th>\n",
       "      <th>번호</th>\n",
       "      <th>분류</th>\n",
       "      <th>제목</th>\n",
       "      <th>내용</th>\n",
       "      <th>내용번호</th>\n",
       "    </tr>\n",
       "  </thead>\n",
       "  <tbody>\n",
       "    <tr>\n",
       "      <th>0</th>\n",
       "      <td>2645</td>\n",
       "      <td>복지</td>\n",
       "      <td>아빠 육아휴직 장려금</td>\n",
       "      <td>아빠 육아휴직 장려금   업무개요  남성근로자의 육아휴직을 장려하고 양육에 따른 경...</td>\n",
       "      <td>23522464</td>\n",
       "    </tr>\n",
       "    <tr>\n",
       "      <th>1</th>\n",
       "      <td>2644</td>\n",
       "      <td>경제</td>\n",
       "      <td>[서울산업진흥원] 서울메이드란?</td>\n",
       "      <td>서울산업진흥원 서울메이드란 서울의 감성을 담은 다양하고 새로운 경험을 제공하기 위해...</td>\n",
       "      <td>23194045</td>\n",
       "    </tr>\n",
       "    <tr>\n",
       "      <th>2</th>\n",
       "      <td>2643</td>\n",
       "      <td>환경</td>\n",
       "      <td>(강북구) 정비중</td>\n",
       "      <td>강북구 정비중  업무개요  투명 폐트병을 교환보상하므로 수거율을 높이고 폐기물을 감...</td>\n",
       "      <td>23032485</td>\n",
       "    </tr>\n",
       "    <tr>\n",
       "      <th>3</th>\n",
       "      <td>2642</td>\n",
       "      <td>복지</td>\n",
       "      <td>광진맘택시 운영(임산부,영아 양육가정 전용 택시)</td>\n",
       "      <td>광진맘택시 운영임산부영아 양육가정 전용 택시  업무개요 교통약자인 임산부와 영아가정...</td>\n",
       "      <td>22904492</td>\n",
       "    </tr>\n",
       "    <tr>\n",
       "      <th>4</th>\n",
       "      <td>2641</td>\n",
       "      <td>복지</td>\n",
       "      <td>마포 뇌병변장애인 비전센터</td>\n",
       "      <td>마포 뇌병변장애인 비전센터 마포뇌병변장애인 비전센터 운영   구분 내용  목적  학...</td>\n",
       "      <td>22477798</td>\n",
       "    </tr>\n",
       "  </tbody>\n",
       "</table>\n",
       "</div>"
      ],
      "text/plain": [
       "     번호  분류                           제목  \\\n",
       "0  2645  복지                  아빠 육아휴직 장려금   \n",
       "1  2644  경제            [서울산업진흥원] 서울메이드란?   \n",
       "2  2643  환경                    (강북구) 정비중   \n",
       "3  2642  복지  광진맘택시 운영(임산부,영아 양육가정 전용 택시)   \n",
       "4  2641  복지               마포 뇌병변장애인 비전센터   \n",
       "\n",
       "                                                  내용      내용번호  \n",
       "0  아빠 육아휴직 장려금   업무개요  남성근로자의 육아휴직을 장려하고 양육에 따른 경...  23522464  \n",
       "1  서울산업진흥원 서울메이드란 서울의 감성을 담은 다양하고 새로운 경험을 제공하기 위해...  23194045  \n",
       "2  강북구 정비중  업무개요  투명 폐트병을 교환보상하므로 수거율을 높이고 폐기물을 감...  23032485  \n",
       "3  광진맘택시 운영임산부영아 양육가정 전용 택시  업무개요 교통약자인 임산부와 영아가정...  22904492  \n",
       "4  마포 뇌병변장애인 비전센터 마포뇌병변장애인 비전센터 운영   구분 내용  목적  학...  22477798  "
      ]
     },
     "execution_count": 7,
     "metadata": {},
     "output_type": "execute_result"
    }
   ],
   "source": [
    "df.head()"
   ]
  },
  {
   "cell_type": "code",
   "execution_count": 11,
   "metadata": {
    "colab": {
     "base_uri": "https://localhost:8080/",
     "height": 53
    },
    "executionInfo": {
     "elapsed": 350,
     "status": "ok",
     "timestamp": 1726635298060,
     "user": {
      "displayName": "김다정",
      "userId": "02105851183141909635"
     },
     "user_tz": -540
    },
    "id": "otWESxHlbZjG",
    "outputId": "37592dd6-c9cb-447d-afc0-7a9d5030595b"
   },
   "outputs": [
    {
     "data": {
      "text/plain": [
       "0"
      ]
     },
     "execution_count": 11,
     "metadata": {},
     "output_type": "execute_result"
    }
   ],
   "source": [
    "# 중복데이터가 있는지 확인하세요.\n",
    "df.duplicated().sum()"
   ]
  },
  {
   "cell_type": "code",
   "execution_count": 13,
   "metadata": {
    "colab": {
     "base_uri": "https://localhost:8080/",
     "height": 241
    },
    "executionInfo": {
     "elapsed": 3,
     "status": "ok",
     "timestamp": 1726635299756,
     "user": {
      "displayName": "김다정",
      "userId": "02105851183141909635"
     },
     "user_tz": -540
    },
    "id": "YXAtNDKco1Yv",
    "outputId": "55c69d8d-1dc5-4217-c787-85e5a7415f67"
   },
   "outputs": [
    {
     "data": {
      "text/plain": [
       "번호      0\n",
       "분류      0\n",
       "제목      0\n",
       "내용      0\n",
       "내용번호    0\n",
       "dtype: int64"
      ]
     },
     "execution_count": 13,
     "metadata": {},
     "output_type": "execute_result"
    }
   ],
   "source": [
    "# 결측치를 확인하세요.\n",
    "df.isnull().sum()"
   ]
  },
  {
   "cell_type": "markdown",
   "metadata": {
    "id": "lMII7R0go1Yx"
   },
   "source": [
    "## **2. 벡터화**"
   ]
  },
  {
   "cell_type": "markdown",
   "metadata": {
    "id": "v5I8aV59KbDZ"
   },
   "source": [
    "* '제목' 열과 '내용' 열을 합친 '제목내용' 열을 만드세요."
   ]
  },
  {
   "cell_type": "code",
   "execution_count": 15,
   "metadata": {
    "id": "oxcuJF0akErO"
   },
   "outputs": [],
   "source": [
    "df['제목내용'] = df['제목'].astype(str) + ' ' + df['내용'].astype(str)"
   ]
  },
  {
   "cell_type": "code",
   "execution_count": 17,
   "metadata": {
    "colab": {
     "base_uri": "https://localhost:8080/",
     "height": 310
    },
    "executionInfo": {
     "elapsed": 366,
     "status": "ok",
     "timestamp": 1726635304840,
     "user": {
      "displayName": "김다정",
      "userId": "02105851183141909635"
     },
     "user_tz": -540
    },
    "id": "Kt3hsZa9Ktws",
    "outputId": "a78f41db-1a5f-4969-a6a7-770cd983057d"
   },
   "outputs": [
    {
     "data": {
      "text/html": [
       "<div>\n",
       "<style scoped>\n",
       "    .dataframe tbody tr th:only-of-type {\n",
       "        vertical-align: middle;\n",
       "    }\n",
       "\n",
       "    .dataframe tbody tr th {\n",
       "        vertical-align: top;\n",
       "    }\n",
       "\n",
       "    .dataframe thead th {\n",
       "        text-align: right;\n",
       "    }\n",
       "</style>\n",
       "<table border=\"1\" class=\"dataframe\">\n",
       "  <thead>\n",
       "    <tr style=\"text-align: right;\">\n",
       "      <th></th>\n",
       "      <th>번호</th>\n",
       "      <th>분류</th>\n",
       "      <th>제목</th>\n",
       "      <th>내용</th>\n",
       "      <th>내용번호</th>\n",
       "      <th>제목내용</th>\n",
       "    </tr>\n",
       "  </thead>\n",
       "  <tbody>\n",
       "    <tr>\n",
       "      <th>0</th>\n",
       "      <td>2645</td>\n",
       "      <td>복지</td>\n",
       "      <td>아빠 육아휴직 장려금</td>\n",
       "      <td>아빠 육아휴직 장려금   업무개요  남성근로자의 육아휴직을 장려하고 양육에 따른 경...</td>\n",
       "      <td>23522464</td>\n",
       "      <td>아빠 육아휴직 장려금 아빠 육아휴직 장려금   업무개요  남성근로자의 육아휴직을 장...</td>\n",
       "    </tr>\n",
       "    <tr>\n",
       "      <th>1</th>\n",
       "      <td>2644</td>\n",
       "      <td>경제</td>\n",
       "      <td>[서울산업진흥원] 서울메이드란?</td>\n",
       "      <td>서울산업진흥원 서울메이드란 서울의 감성을 담은 다양하고 새로운 경험을 제공하기 위해...</td>\n",
       "      <td>23194045</td>\n",
       "      <td>[서울산업진흥원] 서울메이드란? 서울산업진흥원 서울메이드란 서울의 감성을 담은 다양...</td>\n",
       "    </tr>\n",
       "    <tr>\n",
       "      <th>2</th>\n",
       "      <td>2643</td>\n",
       "      <td>환경</td>\n",
       "      <td>(강북구) 정비중</td>\n",
       "      <td>강북구 정비중  업무개요  투명 폐트병을 교환보상하므로 수거율을 높이고 폐기물을 감...</td>\n",
       "      <td>23032485</td>\n",
       "      <td>(강북구) 정비중 강북구 정비중  업무개요  투명 폐트병을 교환보상하므로 수거율을 ...</td>\n",
       "    </tr>\n",
       "    <tr>\n",
       "      <th>3</th>\n",
       "      <td>2642</td>\n",
       "      <td>복지</td>\n",
       "      <td>광진맘택시 운영(임산부,영아 양육가정 전용 택시)</td>\n",
       "      <td>광진맘택시 운영임산부영아 양육가정 전용 택시  업무개요 교통약자인 임산부와 영아가정...</td>\n",
       "      <td>22904492</td>\n",
       "      <td>광진맘택시 운영(임산부,영아 양육가정 전용 택시) 광진맘택시 운영임산부영아 양육가정...</td>\n",
       "    </tr>\n",
       "    <tr>\n",
       "      <th>4</th>\n",
       "      <td>2641</td>\n",
       "      <td>복지</td>\n",
       "      <td>마포 뇌병변장애인 비전센터</td>\n",
       "      <td>마포 뇌병변장애인 비전센터 마포뇌병변장애인 비전센터 운영   구분 내용  목적  학...</td>\n",
       "      <td>22477798</td>\n",
       "      <td>마포 뇌병변장애인 비전센터 마포 뇌병변장애인 비전센터 마포뇌병변장애인 비전센터 운영...</td>\n",
       "    </tr>\n",
       "  </tbody>\n",
       "</table>\n",
       "</div>"
      ],
      "text/plain": [
       "     번호  분류                           제목  \\\n",
       "0  2645  복지                  아빠 육아휴직 장려금   \n",
       "1  2644  경제            [서울산업진흥원] 서울메이드란?   \n",
       "2  2643  환경                    (강북구) 정비중   \n",
       "3  2642  복지  광진맘택시 운영(임산부,영아 양육가정 전용 택시)   \n",
       "4  2641  복지               마포 뇌병변장애인 비전센터   \n",
       "\n",
       "                                                  내용      내용번호  \\\n",
       "0  아빠 육아휴직 장려금   업무개요  남성근로자의 육아휴직을 장려하고 양육에 따른 경...  23522464   \n",
       "1  서울산업진흥원 서울메이드란 서울의 감성을 담은 다양하고 새로운 경험을 제공하기 위해...  23194045   \n",
       "2  강북구 정비중  업무개요  투명 폐트병을 교환보상하므로 수거율을 높이고 폐기물을 감...  23032485   \n",
       "3  광진맘택시 운영임산부영아 양육가정 전용 택시  업무개요 교통약자인 임산부와 영아가정...  22904492   \n",
       "4  마포 뇌병변장애인 비전센터 마포뇌병변장애인 비전센터 운영   구분 내용  목적  학...  22477798   \n",
       "\n",
       "                                                제목내용  \n",
       "0  아빠 육아휴직 장려금 아빠 육아휴직 장려금   업무개요  남성근로자의 육아휴직을 장...  \n",
       "1  [서울산업진흥원] 서울메이드란? 서울산업진흥원 서울메이드란 서울의 감성을 담은 다양...  \n",
       "2  (강북구) 정비중 강북구 정비중  업무개요  투명 폐트병을 교환보상하므로 수거율을 ...  \n",
       "3  광진맘택시 운영(임산부,영아 양육가정 전용 택시) 광진맘택시 운영임산부영아 양육가정...  \n",
       "4  마포 뇌병변장애인 비전센터 마포 뇌병변장애인 비전센터 마포뇌병변장애인 비전센터 운영...  "
      ]
     },
     "execution_count": 17,
     "metadata": {},
     "output_type": "execute_result"
    }
   ],
   "source": [
    "df.head()"
   ]
  },
  {
   "cell_type": "markdown",
   "metadata": {
    "id": "zsqycybvKeOa"
   },
   "source": [
    "* TfidfVectorizer를 이용하여 '제목내용' 열을 피처 벡터화하세요.\n",
    "  * `tfidf`라는 이름으로 인스턴스를 생성하세요.\n",
    "  * 'max_features=2000'으로 설정하세요.\n",
    "  * 변환된 문서 용어 matrix는 `dtm`이라는 변수명으로 저장해주세요."
   ]
  },
  {
   "cell_type": "code",
   "execution_count": 28,
   "metadata": {
    "id": "tEUNepLOo1Y1"
   },
   "outputs": [],
   "source": [
    "# '제목내용' 열 피처 벡터화 변환\n",
    "tfidfvect = TfidfVectorizer(max_features=2000)\n",
    "dtm = tfidfvect.fit_transform(df['제목내용'].fillna(''))"
   ]
  },
  {
   "cell_type": "markdown",
   "metadata": {
    "id": "ft2MvWD57MjT"
   },
   "source": [
    "### 참고: fit, transform, fit_transfrom의 차이점\n",
    "- fit(): 원시 문서에 있는 모든 토큰의 어휘 사전을 배운다.\n",
    "- transform(): 문서를 문서 용어 매트릭스로 변환한다. transform 이후엔 매트릭스로 변환되어 숫자형태로 변경된다.\n",
    "- fit_transform(): 어휘 사전을 배우고 문서 용어 매트릭스를 반환한다. fit 다음에 변환이 오는 것과 동일하지만 더 효율적으로 구현된다.\n",
    "\n",
    "* API Document: https://scikit-learn.org/stable/modules/generated/sklearn.feature_extraction.text.CountVectorizer.html#sklearn.feature_extraction.text.CountVectorizer.fit_transform"
   ]
  },
  {
   "cell_type": "code",
   "execution_count": 30,
   "metadata": {
    "colab": {
     "base_uri": "https://localhost:8080/",
     "height": 235
    },
    "executionInfo": {
     "elapsed": 681,
     "status": "ok",
     "timestamp": 1726636532610,
     "user": {
      "displayName": "김다정",
      "userId": "02105851183141909635"
     },
     "user_tz": -540
    },
    "id": "UKEXeuKQo1Y1",
    "outputId": "1008ccb1-37ab-4bca-8432-f6b3be0a6751"
   },
   "outputs": [
    {
     "data": {
      "text/html": [
       "<div>\n",
       "<style scoped>\n",
       "    .dataframe tbody tr th:only-of-type {\n",
       "        vertical-align: middle;\n",
       "    }\n",
       "\n",
       "    .dataframe tbody tr th {\n",
       "        vertical-align: top;\n",
       "    }\n",
       "\n",
       "    .dataframe thead th {\n",
       "        text-align: right;\n",
       "    }\n",
       "</style>\n",
       "<table border=\"1\" class=\"dataframe\">\n",
       "  <thead>\n",
       "    <tr style=\"text-align: right;\">\n",
       "      <th></th>\n",
       "      <th>amp</th>\n",
       "      <th>apos</th>\n",
       "      <th>가격</th>\n",
       "      <th>가구</th>\n",
       "      <th>가구의</th>\n",
       "      <th>가급적</th>\n",
       "      <th>가까운</th>\n",
       "      <th>가꾸기</th>\n",
       "      <th>가능</th>\n",
       "      <th>가능하나</th>\n",
       "      <th>...</th>\n",
       "      <th>회의실</th>\n",
       "      <th>횡단보도</th>\n",
       "      <th>효율적으로</th>\n",
       "      <th>후에</th>\n",
       "      <th>후원</th>\n",
       "      <th>훈련</th>\n",
       "      <th>휴관</th>\n",
       "      <th>휴관일</th>\n",
       "      <th>휴무</th>\n",
       "      <th>희망하는</th>\n",
       "    </tr>\n",
       "  </thead>\n",
       "  <tbody>\n",
       "    <tr>\n",
       "      <th>0</th>\n",
       "      <td>0.0</td>\n",
       "      <td>0.0</td>\n",
       "      <td>0.0</td>\n",
       "      <td>0.0</td>\n",
       "      <td>0.0</td>\n",
       "      <td>0.0</td>\n",
       "      <td>0.0</td>\n",
       "      <td>0.0</td>\n",
       "      <td>0.000000</td>\n",
       "      <td>0.0</td>\n",
       "      <td>...</td>\n",
       "      <td>0.0</td>\n",
       "      <td>0.0</td>\n",
       "      <td>0.0</td>\n",
       "      <td>0.0</td>\n",
       "      <td>0.0</td>\n",
       "      <td>0.0</td>\n",
       "      <td>0.0</td>\n",
       "      <td>0.0</td>\n",
       "      <td>0.0</td>\n",
       "      <td>0.0</td>\n",
       "    </tr>\n",
       "    <tr>\n",
       "      <th>1</th>\n",
       "      <td>0.0</td>\n",
       "      <td>0.0</td>\n",
       "      <td>0.0</td>\n",
       "      <td>0.0</td>\n",
       "      <td>0.0</td>\n",
       "      <td>0.0</td>\n",
       "      <td>0.0</td>\n",
       "      <td>0.0</td>\n",
       "      <td>0.000000</td>\n",
       "      <td>0.0</td>\n",
       "      <td>...</td>\n",
       "      <td>0.0</td>\n",
       "      <td>0.0</td>\n",
       "      <td>0.0</td>\n",
       "      <td>0.0</td>\n",
       "      <td>0.0</td>\n",
       "      <td>0.0</td>\n",
       "      <td>0.0</td>\n",
       "      <td>0.0</td>\n",
       "      <td>0.0</td>\n",
       "      <td>0.0</td>\n",
       "    </tr>\n",
       "    <tr>\n",
       "      <th>2</th>\n",
       "      <td>0.0</td>\n",
       "      <td>0.0</td>\n",
       "      <td>0.0</td>\n",
       "      <td>0.0</td>\n",
       "      <td>0.0</td>\n",
       "      <td>0.0</td>\n",
       "      <td>0.0</td>\n",
       "      <td>0.0</td>\n",
       "      <td>0.055109</td>\n",
       "      <td>0.0</td>\n",
       "      <td>...</td>\n",
       "      <td>0.0</td>\n",
       "      <td>0.0</td>\n",
       "      <td>0.0</td>\n",
       "      <td>0.0</td>\n",
       "      <td>0.0</td>\n",
       "      <td>0.0</td>\n",
       "      <td>0.0</td>\n",
       "      <td>0.0</td>\n",
       "      <td>0.0</td>\n",
       "      <td>0.0</td>\n",
       "    </tr>\n",
       "    <tr>\n",
       "      <th>3</th>\n",
       "      <td>0.0</td>\n",
       "      <td>0.0</td>\n",
       "      <td>0.0</td>\n",
       "      <td>0.0</td>\n",
       "      <td>0.0</td>\n",
       "      <td>0.0</td>\n",
       "      <td>0.0</td>\n",
       "      <td>0.0</td>\n",
       "      <td>0.113177</td>\n",
       "      <td>0.0</td>\n",
       "      <td>...</td>\n",
       "      <td>0.0</td>\n",
       "      <td>0.0</td>\n",
       "      <td>0.0</td>\n",
       "      <td>0.0</td>\n",
       "      <td>0.0</td>\n",
       "      <td>0.0</td>\n",
       "      <td>0.0</td>\n",
       "      <td>0.0</td>\n",
       "      <td>0.0</td>\n",
       "      <td>0.0</td>\n",
       "    </tr>\n",
       "    <tr>\n",
       "      <th>4</th>\n",
       "      <td>0.0</td>\n",
       "      <td>0.0</td>\n",
       "      <td>0.0</td>\n",
       "      <td>0.0</td>\n",
       "      <td>0.0</td>\n",
       "      <td>0.0</td>\n",
       "      <td>0.0</td>\n",
       "      <td>0.0</td>\n",
       "      <td>0.000000</td>\n",
       "      <td>0.0</td>\n",
       "      <td>...</td>\n",
       "      <td>0.0</td>\n",
       "      <td>0.0</td>\n",
       "      <td>0.0</td>\n",
       "      <td>0.0</td>\n",
       "      <td>0.0</td>\n",
       "      <td>0.0</td>\n",
       "      <td>0.0</td>\n",
       "      <td>0.0</td>\n",
       "      <td>0.0</td>\n",
       "      <td>0.0</td>\n",
       "    </tr>\n",
       "  </tbody>\n",
       "</table>\n",
       "<p>5 rows × 2000 columns</p>\n",
       "</div>"
      ],
      "text/plain": [
       "   amp  apos   가격   가구  가구의  가급적  가까운  가꾸기        가능  가능하나  ...  회의실  횡단보도  \\\n",
       "0  0.0   0.0  0.0  0.0  0.0  0.0  0.0  0.0  0.000000   0.0  ...  0.0   0.0   \n",
       "1  0.0   0.0  0.0  0.0  0.0  0.0  0.0  0.0  0.000000   0.0  ...  0.0   0.0   \n",
       "2  0.0   0.0  0.0  0.0  0.0  0.0  0.0  0.0  0.055109   0.0  ...  0.0   0.0   \n",
       "3  0.0   0.0  0.0  0.0  0.0  0.0  0.0  0.0  0.113177   0.0  ...  0.0   0.0   \n",
       "4  0.0   0.0  0.0  0.0  0.0  0.0  0.0  0.0  0.000000   0.0  ...  0.0   0.0   \n",
       "\n",
       "   효율적으로   후에   후원   훈련   휴관  휴관일   휴무  희망하는  \n",
       "0    0.0  0.0  0.0  0.0  0.0  0.0  0.0   0.0  \n",
       "1    0.0  0.0  0.0  0.0  0.0  0.0  0.0   0.0  \n",
       "2    0.0  0.0  0.0  0.0  0.0  0.0  0.0   0.0  \n",
       "3    0.0  0.0  0.0  0.0  0.0  0.0  0.0   0.0  \n",
       "4    0.0  0.0  0.0  0.0  0.0  0.0  0.0   0.0  \n",
       "\n",
       "[5 rows x 2000 columns]"
      ]
     },
     "execution_count": 30,
     "metadata": {},
     "output_type": "execute_result"
    }
   ],
   "source": [
    "# 문장에서 노출되는 feature(특징이 될만한 단어) 수를 합한 변수 Document Term Matrix(이하 dtm)를 생성합니다.\n",
    "# 아래 코드를 실행해주세요.\n",
    "df_dtm_tfidf = pd.DataFrame(dtm.toarray(), columns=tfidfvect.get_feature_names_out())\n",
    "df_dtm_tfidf.head()"
   ]
  },
  {
   "cell_type": "code",
   "execution_count": 37,
   "metadata": {
    "colab": {
     "base_uri": "https://localhost:8080/",
     "height": 437
    },
    "executionInfo": {
     "elapsed": 1558,
     "status": "ok",
     "timestamp": 1726636549935,
     "user": {
      "displayName": "김다정",
      "userId": "02105851183141909635"
     },
     "user_tz": -540
    },
    "id": "l61luP9mo1Y2",
    "outputId": "24a5e14f-26a5-4ddc-849f-a75147a37542"
   },
   "outputs": [
    {
     "data": {
      "text/plain": [
       "<Axes: >"
      ]
     },
     "execution_count": 37,
     "metadata": {},
     "output_type": "execute_result"
    },
    {
     "data": {
      "image/png": "[encoded data removed]",
      "text/plain": [
       "<Figure size 1000x400 with 1 Axes>"
      ]
     },
     "metadata": {},
     "output_type": "display_data"
    }
   ],
   "source": [
    "# 각 row에서 전체 단어가방에 있는 어휘에서 등장하는 단어에 대한 가중치를 적용한 vector를 확인합니다.\n",
    "# 아래 셀을 실행해주세요.\n",
    "df_dtm_tfidf.sum().nlargest(20).plot(kind=\"bar\", figsize=(10, 4))"
   ]
  },
  {
   "cell_type": "markdown",
   "metadata": {
    "id": "5SfyYdvZo1Y3"
   },
   "source": [
    "## 코사인 유사도\n",
    "\n",
    "\n",
    "<img src=\"https://i.imgur.com/RdPPH33.png\">\n",
    "* 이미지 출처 : https://pyimagesearch.com/\n",
    "\n",
    "<img src=\"https://storage.googleapis.com/lds-media/images/cosine-similarity-vectors.original.jpg\">\n",
    "* 이미지 출처 : https://www.learndatasci.com/glossary/cosine-similarity/\n",
    "\n",
    "\n",
    "\n",
    "\n",
    "- 내적 공간 내에서 두 벡터 사이의 코사인 각도를 구하는 방법( –1∼1 사이 값을 가지며, 1에 가까울수록 유사도가 높다.)\n",
    "- 벡터의 크기가 아닌 방향의 유사도를 판단하는 목적으로 사용되며, 두 벡터의 방향이 완전히 같을 경우 1, 90°의 각을 이룰 경우 0, 180°로 완전히 반대 방향인 경우 -1의 값을 갖음 >> 코사인 유사도에서는 각 데이터 간의 각도가 작을 수록 데이터가 비슷하다.\n",
    "- 장점: 어떤 개수의 차원에도 적용할 수 있지만 흔히 다차원의 양수 공간에서의 유사도 측정에서 자주 이용한다.\n",
    "- 단점: 상호 상관관계를 가지는 특성(키, 몸무게 등)를 갖는 원소들간의 유사도를 계산할때에 성능이 낮다.\n",
    "\n",
    "\n",
    "* 코사인 유사도는 원점(모든 단어의 빈도가 0인 경우)에서 보았을 때 두 문서의 각도에 바탕을 둔 거리 측정 방식이다.\n",
    "* 내적공간의 두 벡터간 각도의 코사인값을 이용하여 측정된 벡터간의 유사한 정도를 의미한다. 각도가 0°일 때의 코사인값은 1이며, 다른 모든 각도의 코사인값은 1보다 작다. 따라서 이 값은 벡터의 크기가 아닌 방향의 유사도를 판단하는 목적으로 사용되며, 두 벡터의 방향이 완전히 같을 경우 1, 90°의 각을 이룰 경우 0, 180°로 완전히 반대 방향인 경우 -1의 값을 갖는다. 이 때 벡터의 크기는 값에 아무런 영향을 미치지 않는다. 코사인 유사도는 특히 결과값이 [0,1]의 범위로 떨어지는 양수 공간에서 사용된다.\n",
    "* 코사인 유사도는 어떤 개수의 차원에도 적용이 가능하여 흔히 다차원의 양수 공간에서의 유사도 측정에 자주 이용된다. 예를 들어 정보 검색 및 텍스트 마이닝 분야에서, 단어 하나 하나는 각각의 차원을 구성하고 문서는 각 단어가 문서에 나타나는 회수로 표현되는 벡터값을 가진다. 이러한 다차원 공간에서 코사인 유사도는 두 문서의 유사를 측정하는 매우 유용한 방법이다.\n",
    "* 코사인 유사도는 데이터 마이닝 분야에서 클러스터들간의 응집도를 측정하는 방법으로도 사용된다.\n",
    "\n",
    "* 출처: https://ko.wikipedia.org/wiki/%EC%BD%94%EC%82%AC%EC%9D%B8_%EC%9C%A0%EC%82%AC%EB%8F%84\n",
    "* API Document: https://scikit-learn.org/stable/modules/generated/sklearn.metrics.pairwise.cosine_similarity.html\n",
    "\n",
    "\n",
    "\n",
    "$$ \\text{{Cosine Similarity}}(A, B) = \\frac{{A \\cdot B}}{{\\|A\\|\\|B\\|}} = \\frac{{\\sum^n_{i=1}A_iB_i}}{{\\sqrt{\\sum^n_{i=1}A_i^2}\\sqrt{\\sum^n_{i=1}B_i^2}}} $$\n"
   ]
  },
  {
   "cell_type": "markdown",
   "metadata": {
    "id": "XiRyNAtSbZjK"
   },
   "source": [
    "https://scikit-learn.org/stable/modules/generated/sklearn.metrics.pairwise.cosine_similarity.html#sklearn-metrics-pairwise-cosine-similarity"
   ]
  },
  {
   "cell_type": "markdown",
   "metadata": {
    "id": "Dtm88bimk4GW"
   },
   "source": [
    "* `sklearn.metrics.pairwise`에서 `cosine_similarity`를 불러온 후 코사인 유사도를 `ndarray` 형태로 반환하세요.\n",
    "  * 생성된 코사인 유사도 행렬을 `cosine_matrix`라는 변수명으로 저장해주세요."
   ]
  },
  {
   "cell_type": "code",
   "execution_count": 45,
   "metadata": {
    "colab": {
     "base_uri": "https://localhost:8080/"
    },
    "executionInfo": {
     "elapsed": 3043,
     "status": "ok",
     "timestamp": 1726636589156,
     "user": {
      "displayName": "김다정",
      "userId": "02105851183141909635"
     },
     "user_tz": -540
    },
    "id": "AC98n4w5o1Y3",
    "outputId": "b481de65-2dce-46c0-b99f-54bebb3b58d3"
   },
   "outputs": [
    {
     "data": {
      "text/plain": [
       "array([[1.        , 0.        , 0.03860744, ..., 0.01996438, 0.        ,\n",
       "        0.        ],\n",
       "       [0.        , 1.        , 0.        , ..., 0.        , 0.        ,\n",
       "        0.        ],\n",
       "       [0.03860744, 0.        , 1.        , ..., 0.02681782, 0.        ,\n",
       "        0.        ],\n",
       "       ...,\n",
       "       [0.01996438, 0.        , 0.02681782, ..., 1.        , 0.        ,\n",
       "        0.        ],\n",
       "       [0.        , 0.        , 0.        , ..., 0.        , 1.        ,\n",
       "        0.319022  ],\n",
       "       [0.        , 0.        , 0.        , ..., 0.        , 0.319022  ,\n",
       "        1.        ]])"
      ]
     },
     "execution_count": 45,
     "metadata": {},
     "output_type": "execute_result"
    }
   ],
   "source": [
    "cosine_matrix = cosine_similarity(dtm)\n",
    "cosine_matrix"
   ]
  },
  {
   "cell_type": "code",
   "execution_count": 47,
   "metadata": {
    "colab": {
     "base_uri": "https://localhost:8080/",
     "height": 456
    },
    "executionInfo": {
     "elapsed": 2401,
     "status": "ok",
     "timestamp": 1726636639185,
     "user": {
      "displayName": "김다정",
      "userId": "02105851183141909635"
     },
     "user_tz": -540
    },
    "id": "c2av-wxhbZjK",
    "outputId": "c4b66106-15b2-465f-c4ae-be12be3cb2ed"
   },
   "outputs": [
    {
     "data": {
      "text/plain": [
       "<Axes: >"
      ]
     },
     "execution_count": 47,
     "metadata": {},
     "output_type": "execute_result"
    },
    {
     "data": {
      "image/png": "[encoded data removed]",
      "text/plain": [
       "<Figure size 640x480 with 2 Axes>"
      ]
     },
     "metadata": {},
     "output_type": "display_data"
    }
   ],
   "source": [
    "# 코사인 유사도를 시각화합니다.\n",
    "# 아래 셀을 실행해주세요.\n",
    "sns.heatmap(cosine_matrix[:100, :100], cmap=\"gray_r\")"
   ]
  },
  {
   "cell_type": "markdown",
   "metadata": {
    "id": "_Fl13qB5bZjK"
   },
   "source": [
    "## 유사도가 높은 문서"
   ]
  },
  {
   "cell_type": "markdown",
   "metadata": {
    "id": "kbj6YhRvl9hG"
   },
   "source": [
    "* 첫 번째 행에 대한 코사인 유사도를 'similarity_0'이라는 파생변수로 생성하고 유사도가 높은 순으로 정렬합니다.\n",
    "  * '번호', '제목', 'similarity_0' 열이 모두 나오게 출력하세요.\n",
    "  * 제안 : `nlargest(n, columns)` 메소드를 써도 좋습니다."
   ]
  },
  {
   "cell_type": "code",
   "execution_count": 57,
   "metadata": {
    "colab": {
     "base_uri": "https://localhost:8080/",
     "height": 363
    },
    "executionInfo": {
     "elapsed": 357,
     "status": "ok",
     "timestamp": 1726637127684,
     "user": {
      "displayName": "김다정",
      "userId": "02105851183141909635"
     },
     "user_tz": -540
    },
    "id": "XiIUgZHCHt8y",
    "outputId": "3351ed19-95cd-4cbe-c978-b5ed12104de4"
   },
   "outputs": [
    {
     "data": {
      "text/html": [
       "<div>\n",
       "<style scoped>\n",
       "    .dataframe tbody tr th:only-of-type {\n",
       "        vertical-align: middle;\n",
       "    }\n",
       "\n",
       "    .dataframe tbody tr th {\n",
       "        vertical-align: top;\n",
       "    }\n",
       "\n",
       "    .dataframe thead th {\n",
       "        text-align: right;\n",
       "    }\n",
       "</style>\n",
       "<table border=\"1\" class=\"dataframe\">\n",
       "  <thead>\n",
       "    <tr style=\"text-align: right;\">\n",
       "      <th></th>\n",
       "      <th>번호</th>\n",
       "      <th>제목</th>\n",
       "      <th>similarity_0</th>\n",
       "    </tr>\n",
       "  </thead>\n",
       "  <tbody>\n",
       "    <tr>\n",
       "      <th>0</th>\n",
       "      <td>2645</td>\n",
       "      <td>아빠 육아휴직 장려금</td>\n",
       "      <td>1.000000</td>\n",
       "    </tr>\n",
       "    <tr>\n",
       "      <th>1772</th>\n",
       "      <td>873</td>\n",
       "      <td>도시계획시설부지 재결신청 이후 진행단계는 어떤 과정을 거칩니까?</td>\n",
       "      <td>0.213216</td>\n",
       "    </tr>\n",
       "    <tr>\n",
       "      <th>1073</th>\n",
       "      <td>1572</td>\n",
       "      <td>부기등기 이후 제한물권 설정의 효력은?</td>\n",
       "      <td>0.182389</td>\n",
       "    </tr>\n",
       "    <tr>\n",
       "      <th>155</th>\n",
       "      <td>2490</td>\n",
       "      <td>[농업기술센터] 후계농업경영인 선정 및 청년창업형 후계농업경영인 신청 안내</td>\n",
       "      <td>0.178573</td>\n",
       "    </tr>\n",
       "    <tr>\n",
       "      <th>539</th>\n",
       "      <td>2106</td>\n",
       "      <td>행려자도 아니고 시설수용자도 아닌 사람이 살고 있던 비닐하우스에서 화상을 입었습니다...</td>\n",
       "      <td>0.168218</td>\n",
       "    </tr>\n",
       "    <tr>\n",
       "      <th>...</th>\n",
       "      <td>...</td>\n",
       "      <td>...</td>\n",
       "      <td>...</td>\n",
       "    </tr>\n",
       "    <tr>\n",
       "      <th>1253</th>\n",
       "      <td>1392</td>\n",
       "      <td>거푸집 동바리 설치시 무게 계산 검토사항은 ?</td>\n",
       "      <td>0.000000</td>\n",
       "    </tr>\n",
       "    <tr>\n",
       "      <th>1252</th>\n",
       "      <td>1393</td>\n",
       "      <td>기능직 공무원은 현재 몇명인가요?</td>\n",
       "      <td>0.000000</td>\n",
       "    </tr>\n",
       "    <tr>\n",
       "      <th>1250</th>\n",
       "      <td>1395</td>\n",
       "      <td>콘크리트 타설시 점검사항은 ?</td>\n",
       "      <td>0.000000</td>\n",
       "    </tr>\n",
       "    <tr>\n",
       "      <th>1249</th>\n",
       "      <td>1396</td>\n",
       "      <td>주거환경개선지구 내 건축허가 가능 여부</td>\n",
       "      <td>0.000000</td>\n",
       "    </tr>\n",
       "    <tr>\n",
       "      <th>2644</th>\n",
       "      <td>1</td>\n",
       "      <td>폐기대상 문서의 폐기는 어떻게 하나요?</td>\n",
       "      <td>0.000000</td>\n",
       "    </tr>\n",
       "  </tbody>\n",
       "</table>\n",
       "<p>2645 rows × 3 columns</p>\n",
       "</div>"
      ],
      "text/plain": [
       "        번호                                                 제목  similarity_0\n",
       "0     2645                                        아빠 육아휴직 장려금      1.000000\n",
       "1772   873                도시계획시설부지 재결신청 이후 진행단계는 어떤 과정을 거칩니까?      0.213216\n",
       "1073  1572                              부기등기 이후 제한물권 설정의 효력은?      0.182389\n",
       "155   2490          [농업기술센터] 후계농업경영인 선정 및 청년창업형 후계농업경영인 신청 안내      0.178573\n",
       "539   2106  행려자도 아니고 시설수용자도 아닌 사람이 살고 있던 비닐하우스에서 화상을 입었습니다...      0.168218\n",
       "...    ...                                                ...           ...\n",
       "1253  1392                          거푸집 동바리 설치시 무게 계산 검토사항은 ?      0.000000\n",
       "1252  1393                                 기능직 공무원은 현재 몇명인가요?      0.000000\n",
       "1250  1395                                   콘크리트 타설시 점검사항은 ?      0.000000\n",
       "1249  1396                              주거환경개선지구 내 건축허가 가능 여부      0.000000\n",
       "2644     1                              폐기대상 문서의 폐기는 어떻게 하나요?      0.000000\n",
       "\n",
       "[2645 rows x 3 columns]"
      ]
     },
     "execution_count": 57,
     "metadata": {},
     "output_type": "execute_result"
    }
   ],
   "source": [
    "similarity_0 = cosine_matrix[0]\n",
    "df['similarity_0'] = similarity_0\n",
    "\n",
    "result_df = df.sort_values(by='similarity_0', ascending=False)\n",
    "final_output = result_df[['번호', '제목', 'similarity_0']]\n",
    "final_output"
   ]
  },
  {
   "cell_type": "markdown",
   "metadata": {
    "id": "QO-owdewbZjK"
   },
   "source": [
    "## 유사도가 낮은 문서"
   ]
  },
  {
   "cell_type": "markdown",
   "metadata": {
    "id": "PVzOuaBWmsYu"
   },
   "source": [
    "* 위와 같은 방법으로 유사도가 낮은 순으로 정렬합니다.\n",
    "  * 제안 : `nsmallest(n, columns)` 메소드를 써도 좋습니다."
   ]
  },
  {
   "cell_type": "code",
   "execution_count": 61,
   "metadata": {
    "colab": {
     "base_uri": "https://localhost:8080/",
     "height": 363
    },
    "executionInfo": {
     "elapsed": 341,
     "status": "ok",
     "timestamp": 1726637180855,
     "user": {
      "displayName": "김다정",
      "userId": "02105851183141909635"
     },
     "user_tz": -540
    },
    "id": "RXCQLJKGo1Y3",
    "outputId": "d2eb580b-8095-4147-e6ec-6281b220c2d7"
   },
   "outputs": [
    {
     "data": {
      "text/html": [
       "<div>\n",
       "<style scoped>\n",
       "    .dataframe tbody tr th:only-of-type {\n",
       "        vertical-align: middle;\n",
       "    }\n",
       "\n",
       "    .dataframe tbody tr th {\n",
       "        vertical-align: top;\n",
       "    }\n",
       "\n",
       "    .dataframe thead th {\n",
       "        text-align: right;\n",
       "    }\n",
       "</style>\n",
       "<table border=\"1\" class=\"dataframe\">\n",
       "  <thead>\n",
       "    <tr style=\"text-align: right;\">\n",
       "      <th></th>\n",
       "      <th>번호</th>\n",
       "      <th>제목</th>\n",
       "      <th>similarity_0</th>\n",
       "    </tr>\n",
       "  </thead>\n",
       "  <tbody>\n",
       "    <tr>\n",
       "      <th>1322</th>\n",
       "      <td>1323</td>\n",
       "      <td>구청장의 업무 추진비는 어떻게 책정됩니까?</td>\n",
       "      <td>0.000000</td>\n",
       "    </tr>\n",
       "    <tr>\n",
       "      <th>1422</th>\n",
       "      <td>1223</td>\n",
       "      <td>서대문구 규칙은 몇개인가요?</td>\n",
       "      <td>0.000000</td>\n",
       "    </tr>\n",
       "    <tr>\n",
       "      <th>1418</th>\n",
       "      <td>1227</td>\n",
       "      <td>감리원의 자격은 어디에 나와 았나요 ?</td>\n",
       "      <td>0.000000</td>\n",
       "    </tr>\n",
       "    <tr>\n",
       "      <th>1417</th>\n",
       "      <td>1228</td>\n",
       "      <td>원가계산의 비목이란?</td>\n",
       "      <td>0.000000</td>\n",
       "    </tr>\n",
       "    <tr>\n",
       "      <th>1416</th>\n",
       "      <td>1229</td>\n",
       "      <td>제조원가란?</td>\n",
       "      <td>0.000000</td>\n",
       "    </tr>\n",
       "    <tr>\n",
       "      <th>...</th>\n",
       "      <td>...</td>\n",
       "      <td>...</td>\n",
       "      <td>...</td>\n",
       "    </tr>\n",
       "    <tr>\n",
       "      <th>539</th>\n",
       "      <td>2106</td>\n",
       "      <td>행려자도 아니고 시설수용자도 아닌 사람이 살고 있던 비닐하우스에서 화상을 입었습니다...</td>\n",
       "      <td>0.168218</td>\n",
       "    </tr>\n",
       "    <tr>\n",
       "      <th>155</th>\n",
       "      <td>2490</td>\n",
       "      <td>[농업기술센터] 후계농업경영인 선정 및 청년창업형 후계농업경영인 신청 안내</td>\n",
       "      <td>0.178573</td>\n",
       "    </tr>\n",
       "    <tr>\n",
       "      <th>1073</th>\n",
       "      <td>1572</td>\n",
       "      <td>부기등기 이후 제한물권 설정의 효력은?</td>\n",
       "      <td>0.182389</td>\n",
       "    </tr>\n",
       "    <tr>\n",
       "      <th>1772</th>\n",
       "      <td>873</td>\n",
       "      <td>도시계획시설부지 재결신청 이후 진행단계는 어떤 과정을 거칩니까?</td>\n",
       "      <td>0.213216</td>\n",
       "    </tr>\n",
       "    <tr>\n",
       "      <th>0</th>\n",
       "      <td>2645</td>\n",
       "      <td>아빠 육아휴직 장려금</td>\n",
       "      <td>1.000000</td>\n",
       "    </tr>\n",
       "  </tbody>\n",
       "</table>\n",
       "<p>2645 rows × 3 columns</p>\n",
       "</div>"
      ],
      "text/plain": [
       "        번호                                                 제목  similarity_0\n",
       "1322  1323                            구청장의 업무 추진비는 어떻게 책정됩니까?      0.000000\n",
       "1422  1223                                    서대문구 규칙은 몇개인가요?      0.000000\n",
       "1418  1227                              감리원의 자격은 어디에 나와 았나요 ?      0.000000\n",
       "1417  1228                                        원가계산의 비목이란?      0.000000\n",
       "1416  1229                                             제조원가란?      0.000000\n",
       "...    ...                                                ...           ...\n",
       "539   2106  행려자도 아니고 시설수용자도 아닌 사람이 살고 있던 비닐하우스에서 화상을 입었습니다...      0.168218\n",
       "155   2490          [농업기술센터] 후계농업경영인 선정 및 청년창업형 후계농업경영인 신청 안내      0.178573\n",
       "1073  1572                              부기등기 이후 제한물권 설정의 효력은?      0.182389\n",
       "1772   873                도시계획시설부지 재결신청 이후 진행단계는 어떤 과정을 거칩니까?      0.213216\n",
       "0     2645                                        아빠 육아휴직 장려금      1.000000\n",
       "\n",
       "[2645 rows x 3 columns]"
      ]
     },
     "execution_count": 61,
     "metadata": {},
     "output_type": "execute_result"
    }
   ],
   "source": [
    "result_df_ascending = df.sort_values(by='similarity_0', ascending=True)\n",
    "final_output_ascending = result_df_ascending[['번호', '제목', 'similarity_0']]\n",
    "final_output_ascending"
   ]
  },
  {
   "cell_type": "markdown",
   "metadata": {
    "id": "lui3k4b6Ht8y"
   },
   "source": [
    "### 유사도가 높은 문서 찾는 함수 만들기\n",
    "* chatGPT, 구글링을 이용하여 하나의 행에 대해 유사도가 높은 문서 순으로 정렬하는 함수를 만들어보세요."
   ]
  },
  {
   "cell_type": "code",
   "execution_count": 71,
   "metadata": {
    "id": "wu4qQpTLHt8y"
   },
   "outputs": [],
   "source": [
    "def find_similar_documents(df, cosine_matrix, target_index, top_n=10):\n",
    "    \"\"\"\n",
    "    특정 문서 인덱스에 대해 유사도가 높은 문서 순으로 정렬하여 반환하는 함수.\n",
    "\n",
    "    Parameters:\n",
    "    - df (pd.DataFrame): 원본 데이터프레임.\n",
    "    - cosine_matrix (np.ndarray): 문서 간 코사인 유사도 행렬.\n",
    "    - target_index (int): 유사도를 알고 싶은 대상 문서의 인덱스 번호 (0부터 시작).\n",
    "    - top_n (int): 반환할 유사도 높은 문서의 개수 (기본값 10).\n",
    "\n",
    "    Returns:\n",
    "    - pd.DataFrame: '번호', '제목', '유사도'를 포함하는 상위 유사 문서 DataFrame.\n",
    "    \"\"\"\n",
    "\n",
    "    # 1. 대상 문서의 유사도 벡터 추출\n",
    "    # target_index에 해당하는 행을 추출합니다.\n",
    "    similarity_vector = cosine_matrix[target_index]\n",
    "\n",
    "    # 2. 유사도 벡터를 Series로 변환하고 인덱스(문서 번호)를 지정\n",
    "    # 이때 인덱스는 원본 df의 인덱스와 동일하게 유지됩니다.\n",
    "    similarity_series = pd.Series(similarity_vector, index=df.index)\n",
    "\n",
    "    # 3. 유사도 순으로 내림차순 정렬 (높은 유사도가 먼저 오도록)\n",
    "    sorted_similarities = similarity_series.sort_values(ascending=False)\n",
    "\n",
    "    # 4. 상위 N개 추출\n",
    "    # 가장 유사도가 높은 문서는 자기 자신(유사도 1.0)이므로 제외해야 합니다.\n",
    "    top_indices = sorted_similarities.index[1 : top_n]\n",
    "    top_scores = sorted_similarities.values[1 : top_n]\n",
    "\n",
    "    # 5. 결과를 담을 DataFrame 생성\n",
    "    # 선택된 인덱스의 원본 정보('번호', '제목')를 가져옵니다.\n",
    "    result_df = df.loc[top_indices, ['번호', '제목']].copy()\n",
    "\n",
    "    # 6. 유사도 점수를 '유사도'라는 새 열로 추가\n",
    "    result_df['유사도'] = top_scores\n",
    "\n",
    "    return result_df"
   ]
  },
  {
   "cell_type": "code",
   "execution_count": 109,
   "metadata": {
    "colab": {
     "base_uri": "https://localhost:8080/",
     "height": 363
    },
    "executionInfo": {
     "elapsed": 367,
     "status": "ok",
     "timestamp": 1726636700165,
     "user": {
      "displayName": "김다정",
      "userId": "02105851183141909635"
     },
     "user_tz": -540
    },
    "id": "WvgfJ7vmo1Y3",
    "outputId": "48bb96fc-7b14-4071-9661-f427ba4e7b22"
   },
   "outputs": [
    {
     "data": {
      "text/html": [
       "<div>\n",
       "<style scoped>\n",
       "    .dataframe tbody tr th:only-of-type {\n",
       "        vertical-align: middle;\n",
       "    }\n",
       "\n",
       "    .dataframe tbody tr th {\n",
       "        vertical-align: top;\n",
       "    }\n",
       "\n",
       "    .dataframe thead th {\n",
       "        text-align: right;\n",
       "    }\n",
       "</style>\n",
       "<table border=\"1\" class=\"dataframe\">\n",
       "  <thead>\n",
       "    <tr style=\"text-align: right;\">\n",
       "      <th></th>\n",
       "      <th>번호</th>\n",
       "      <th>제목</th>\n",
       "      <th>유사도</th>\n",
       "    </tr>\n",
       "  </thead>\n",
       "  <tbody>\n",
       "    <tr>\n",
       "      <th>2596</th>\n",
       "      <td>49</td>\n",
       "      <td>농업기술센터는 무엇을 하는곳입니까?</td>\n",
       "      <td>0.471597</td>\n",
       "    </tr>\n",
       "    <tr>\n",
       "      <th>1192</th>\n",
       "      <td>1453</td>\n",
       "      <td>입법예고는 무엇을 예고하나요?</td>\n",
       "      <td>0.452786</td>\n",
       "    </tr>\n",
       "    <tr>\n",
       "      <th>511</th>\n",
       "      <td>2134</td>\n",
       "      <td>방재란 무엇을 말합니까?</td>\n",
       "      <td>0.428417</td>\n",
       "    </tr>\n",
       "    <tr>\n",
       "      <th>1787</th>\n",
       "      <td>858</td>\n",
       "      <td>도시계획시설부지로 지장물이란 무엇을 의미합니까?</td>\n",
       "      <td>0.367402</td>\n",
       "    </tr>\n",
       "    <tr>\n",
       "      <th>1385</th>\n",
       "      <td>1260</td>\n",
       "      <td>명절휴가비란 무엇을 말하나요?</td>\n",
       "      <td>0.328926</td>\n",
       "    </tr>\n",
       "    <tr>\n",
       "      <th>2084</th>\n",
       "      <td>561</td>\n",
       "      <td>지역별 전문건설회관(전문건설공제조합) 위치 안내</td>\n",
       "      <td>0.318297</td>\n",
       "    </tr>\n",
       "    <tr>\n",
       "      <th>2477</th>\n",
       "      <td>168</td>\n",
       "      <td>서울시 차량통행속도조사 결과자료는 어디에서 얻을 수 있나요?</td>\n",
       "      <td>0.312739</td>\n",
       "    </tr>\n",
       "    <tr>\n",
       "      <th>2179</th>\n",
       "      <td>466</td>\n",
       "      <td>서울시 함께꿈 학부모단</td>\n",
       "      <td>0.306750</td>\n",
       "    </tr>\n",
       "    <tr>\n",
       "      <th>1966</th>\n",
       "      <td>679</td>\n",
       "      <td>행정서포터스에 참여하고 싶은데 혹시 올해도 행정서포터스 계획이 있으신지요?</td>\n",
       "      <td>0.303782</td>\n",
       "    </tr>\n",
       "  </tbody>\n",
       "</table>\n",
       "</div>"
      ],
      "text/plain": [
       "        번호                                         제목       유사도\n",
       "2596    49                        농업기술센터는 무엇을 하는곳입니까?  0.471597\n",
       "1192  1453                           입법예고는 무엇을 예고하나요?  0.452786\n",
       "511   2134                              방재란 무엇을 말합니까?  0.428417\n",
       "1787   858                 도시계획시설부지로 지장물이란 무엇을 의미합니까?  0.367402\n",
       "1385  1260                           명절휴가비란 무엇을 말하나요?  0.328926\n",
       "2084   561                 지역별 전문건설회관(전문건설공제조합) 위치 안내  0.318297\n",
       "2477   168          서울시 차량통행속도조사 결과자료는 어디에서 얻을 수 있나요?  0.312739\n",
       "2179   466                               서울시 함께꿈 학부모단  0.306750\n",
       "1966   679  행정서포터스에 참여하고 싶은데 혹시 올해도 행정서포터스 계획이 있으신지요?  0.303782"
      ]
     },
     "execution_count": 109,
     "metadata": {},
     "output_type": "execute_result"
    }
   ],
   "source": [
    "# 변수를 넣어 점검해보세요.\n",
    "target_index_to_check = 10\n",
    "\n",
    "find_similar_documents(\n",
    "    df=df,\n",
    "    cosine_matrix=cosine_matrix,\n",
    "    target_index=target_index_to_check,\n",
    "    top_n=10\n",
    ")"
   ]
  }
 ],
 "metadata": {
  "colab": {
   "provenance": [
    {
     "file_id": "15HfNpsXY9B0KpVvCjHnRhSaNXoSTNyOB",
     "timestamp": 1726637675398
    },
    {
     "file_id": "1mDCAatWOEOdSfiU9iGwi_hJG4G7AUmO7",
     "timestamp": 1695279387518
    }
   ]
  },
  "kernelspec": {
   "display_name": "Python [conda env:base] *",
   "language": "python",
   "name": "conda-base-py"
  },
  "language_info": {
   "codemirror_mode": {
    "name": "ipython",
    "version": 3
   },
   "file_extension": ".py",
   "mimetype": "text/x-python",
   "name": "python",
   "nbconvert_exporter": "python",
   "pygments_lexer": "ipython3",
   "version": "3.12.3"
  },
  "toc": {
   "base_numbering": 1,
   "nav_menu": {},
   "number_sections": false,
   "sideBar": false,
   "skip_h1_title": false,
   "title_cell": "Table of Contents",
   "title_sidebar": "Contents",
   "toc_cell": false,
   "toc_position": {
    "height": "calc(100% - 180px)",
    "left": "10px",
    "top": "150px",
    "width": "255.998px"
   },
   "toc_section_display": false,
   "toc_window_display": false
  },
  "varInspector": {
   "cols": {
    "lenName": 16,
    "lenType": 16,
    "lenVar": 40
   },
   "kernels_config": {
    "python": {
     "delete_cmd_postfix": "",
     "delete_cmd_prefix": "del ",
     "library": "var_list.py",
     "varRefreshCmd": "print(var_dic_list())"
    },
    "r": {
     "delete_cmd_postfix": ") ",
     "delete_cmd_prefix": "rm(",
     "library": "var_list.r",
     "varRefreshCmd": "cat(var_dic_list()) "
    }
   },
   "types_to_exclude": [
    "module",
    "function",
    "builtin_function_or_method",
    "instance",
    "_Feature"
   ],
   "window_display": false
  }
 },
 "nbformat": 4,
 "nbformat_minor": 4
}
