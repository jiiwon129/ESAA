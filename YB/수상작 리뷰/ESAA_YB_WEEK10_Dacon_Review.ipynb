{
  "nbformat": 4,
  "nbformat_minor": 0,
  "metadata": {
    "colab": {
      "provenance": [],
      "authorship_tag": "ABX9TyMaej042f4hEkB/a7RTppRn",
      "include_colab_link": true
    },
    "kernelspec": {
      "name": "python3",
      "display_name": "Python 3"
    },
    "language_info": {
      "name": "python"
    }
  },
  "cells": [
    {
      "cell_type": "markdown",
      "metadata": {
        "id": "view-in-github",
        "colab_type": "text"
      },
      "source": [
        "<a href=\"https://colab.research.google.com/github/jiiwon129/ESAA/blob/main/ESAA_YB_WEEK10_Dacon_Review.ipynb\" target=\"_parent\"><img src=\"https://colab.research.google.com/assets/colab-badge.svg\" alt=\"Open In Colab\"/></a>"
      ]
    },
    {
      "cell_type": "markdown",
      "source": [
        "### **데이터, AI를 활용한 물가 예측 경진대회 : 농산물 가격을 중심으로**\n",
        "\n",
        "https://dacon.io/competitions/official/236417/overview/description"
      ],
      "metadata": {
        "id": "L2mCek-1BC_Z"
      }
    },
    {
      "cell_type": "markdown",
      "source": [
        "참고 수상작:\n",
        "\n",
        "https://dacon.io/competitions/official/236417/codeshare/12087"
      ],
      "metadata": {
        "id": "XlPjLEChDjf2"
      }
    },
    {
      "cell_type": "markdown",
      "source": [
        "#### **주제**"
      ],
      "metadata": {
        "id": "yiZu9txdBUId"
      }
    },
    {
      "cell_type": "markdown",
      "source": [
        "시장 안정성 및 물가 안정을 위한 시장 동향 반영 품목별 가격 전량 모델링"
      ],
      "metadata": {
        "id": "MR6MGfSrCAOV"
      }
    },
    {
      "cell_type": "markdown",
      "source": [
        "#### **데이터 설명**"
      ],
      "metadata": {
        "id": "w-zYqNTGC9pW"
      }
    },
    {
      "cell_type": "markdown",
      "source": [
        "1. 품목별 가격 데이터\n",
        "2. 메타 데이터\n",
        "  - 가락도매\n",
        "  - 산지공판장\n",
        "  - 수출입\n",
        "  - 전국도매\n",
        "  - 기상\n",
        "  - 생산정보\n",
        "  - 소/중도매\n",
        "  - 물가지수\n",
        "3. 외부데이터 수집\n",
        "  - 농업기상관측\n",
        "  - 강수일수\n",
        "  "
      ],
      "metadata": {
        "id": "EKCPC8HsCot-"
      }
    },
    {
      "cell_type": "markdown",
      "source": [
        "2018-2022년 데이터를 활용하여 2023년 test 시험의 품목별 평균 가격을 예측\n",
        "- test 데이터는 9개의 시점을 제공하고 이후 3개의 시점을 예측하는 52개의 데이터셋"
      ],
      "metadata": {
        "id": "IihD_r6bDAPC"
      }
    },
    {
      "cell_type": "markdown",
      "source": [
        "#### **데이터 전처리**"
      ],
      "metadata": {
        "id": "QMyvzRNGDMhE"
      }
    },
    {
      "cell_type": "markdown",
      "source": [
        "1. train 데이터의 수가 적음\n",
        "  - meta 데이터를 품목별로 concat하여 데이터 증강\n",
        "\n",
        "2. meata 데이터의 품종명과 train 데이터의 품종명이 불일치\n",
        "  - 비슷한 트렌드를 지닌 품종명으로 대체하여 concat\n",
        "\n",
        "3. 범주형 변수\n",
        "  - Label Encoding\n",
        "\n",
        "4. 숫자형 변수\n",
        "  - StandardScaler 이용하여 정규화\n",
        "\n",
        "5. 한 시점에 대한 데이터로 다음 시점의 평균 가격을 예측하기에 정확도 측면에서 부족\n",
        "  - 9개 시점의 평균가격을 기반으로 다음 3개의 시점을 예측할 수 있도록 Sliding Window 방법으로 데이터 구조 변경\n",
        "  - < Slicing Window >\n",
        "    - 연속적인 데이터에서 일정한 크기의 슬라이스(조각)을 순차적으로 잘라내는 방법\n",
        "    - 고정된 크기(window size)의 창을 데이터를 따라 한 칸씩 또는 여러 칸씩 움직이면 데이터를 자름\n",
        "    - 각 창(window)이 하나의 입력으로 활용"
      ],
      "metadata": {
        "id": "j1reH5MJDOVH"
      }
    },
    {
      "cell_type": "markdown",
      "source": [
        "#### **EDA**"
      ],
      "metadata": {
        "id": "Gppo1i60IcMC"
      }
    },
    {
      "cell_type": "markdown",
      "source": [
        "1. 가격 변동 확인\n",
        "  - No Scaling, Standard, Robust, MinMax 스케일링별로  품목별 가격 변동폭의 차이 확인\n",
        "    - Scaling 유무 및 종류 결정\n",
        "\n",
        "2. 계절성 및 추새\n",
        "  - sin/cos 변환을 통해 주기성 및 가격 성수기/비수기 정보 포착\n",
        "   - 일반적 계절성 및 특정 월에 따른 변동 확인\n",
        "\n",
        "3. 습도 및 기온의 영향\n",
        "\n",
        "4. 시장 가격 데이터\n",
        "  - 중도매/가락/전국 가격과 평균 가격의 추세적 유사성 확인"
      ],
      "metadata": {
        "id": "q7A5vQcgJBJv"
      }
    },
    {
      "cell_type": "markdown",
      "source": [
        "#### **Validation Strategy**"
      ],
      "metadata": {
        "id": "u3CMgyAlKQG8"
      }
    },
    {
      "cell_type": "markdown",
      "source": [
        "1순 (1-10일) -> $W_1$ = 1\n",
        "\n",
        "2순 (11-20일) -> $W_2$ = 1.1\n",
        "\n",
        "3순 (21-31일) -> $W_3$ = 1.2\n",
        "\n",
        "- 3순은 매달 마지막의 평균 가격이기 때문에 장기 예측으로 볼 수 있음\n",
        "  - 가중치를 차등적으로 부여하여 중/장기 예측에 용이하도록 함"
      ],
      "metadata": {
        "id": "zpX5J6JMKjUj"
      }
    },
    {
      "cell_type": "markdown",
      "source": [
        "#### **Modeling**"
      ],
      "metadata": {
        "id": "yhMmonh7L3DM"
      }
    },
    {
      "cell_type": "markdown",
      "source": [
        "1. XGBoost\n",
        "  - 전체적인 시계열 흐름을 파악\n",
        "    - 추세, 계절성\n",
        "2. Extra Trees\n",
        "3. RANSAC\n",
        "  - 시계열적으로 파악하지 못하는 이벤트에 대해서 예측\n",
        "    - 불확실성\n",
        "\n",
        "- 최대 3개월의 순 단위의 입력 데이터를 바탕으로 T+1순, T+2순, T+3순의 평균 가격 예측"
      ],
      "metadata": {
        "id": "z2Y8MMvlL0Gv"
      }
    },
    {
      "cell_type": "markdown",
      "source": [
        "#### **차별점 및 배울점**"
      ],
      "metadata": {
        "id": "HVSOwQ7fNB6Q"
      }
    },
    {
      "cell_type": "markdown",
      "source": [
        "- 시계열 데이터를 다뤄본 경험이 없어 시계열 데이터를 다루는 방법을 알 수 있었음\n",
        "  - ex) Slicing Window 방법\n",
        "    - 모든 시계열 패턴(시간, 일, 월)에 모두 적용 가능\n",
        "    - Window size 변경을 통해 장/단기 예측에 용이\n",
        "\n",
        "- 데이터 전처리 과정에서 데이터를 꼼꼼히 살펴본 후 필요한 파트에서 concat 과정을 진행\n",
        "\n",
        "- 추가적으로 데이터 전처리 과정에서 다양한 스케일링을 진행하여 가장 적절한 Scaler를 사용함\n",
        "\n",
        "- 모델링 과정에서 불확실성을 따져 품목별로 특화된 모델을 사용함"
      ],
      "metadata": {
        "id": "wsO-TnrkNDpK"
      }
    }
  ]
}