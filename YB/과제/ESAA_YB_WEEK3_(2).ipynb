{
  "nbformat": 4,
  "nbformat_minor": 0,
  "metadata": {
    "colab": {
      "provenance": [],
      "mount_file_id": "1V_4UeopG7WQ4n8DkZFdttUWBZ6rP09nE",
      "authorship_tag": "ABX9TyMKr+EgMdSsOp9PLjnK42oH",
      "include_colab_link": true
    },
    "kernelspec": {
      "name": "python3",
      "display_name": "Python 3"
    },
    "language_info": {
      "name": "python"
    }
  },
  "cells": [
    {
      "cell_type": "markdown",
      "metadata": {
        "id": "view-in-github",
        "colab_type": "text"
      },
      "source": [
        "<a href=\"https://colab.research.google.com/github/jiiwon129/ESAA/blob/main/ESAA_YB_WEEK3_assignment_2.ipynb\" target=\"_parent\"><img src=\"https://colab.research.google.com/assets/colab-badge.svg\" alt=\"Open In Colab\"/></a>"
      ]
    },
    {
      "cell_type": "markdown",
      "source": [
        "### **[ 개념정리 ]**"
      ],
      "metadata": {
        "id": "xv0jORthpMTp"
      }
    },
    {
      "cell_type": "markdown",
      "source": [
        "**12-1 datetime 오브젝트**\n",
        "\n",
        "---\n",
        "\n",
        "라이브러리 임포트\n",
        "- from datetime import datetime\n",
        "\n",
        "< datetime 오브젝트를 사용하는 이유 >\n",
        "- 시간 계산 가능\n",
        "\n",
        "datetime.now()\n",
        "- 현재 시간 출력\n",
        "- 밀리초 단위까지 출력\n",
        "\n",
        "datetime.today()\n",
        "- 현재 시간 출력\n"
      ],
      "metadata": {
        "id": "L5QkwwabhOcD"
      }
    },
    {
      "cell_type": "markdown",
      "source": [
        "datetime 오브젝트로 변환하기 -- to_datetime 메서드\n",
        "\n",
        "---\n",
        "\n",
        "pd.to_datetime()\n",
        "- datetime 오브젝트로 변환\n",
        "- format 함수 인자: 시간 형식 지정자(%d, %m, %y)와 기호(/,-) 조합"
      ],
      "metadata": {
        "id": "wBa9CBIOkhr-"
      }
    },
    {
      "cell_type": "markdown",
      "source": [
        "시간 형식 지정자\n",
        "\n",
        "---\n",
        "\n",
        "< 시간 형식 지정자 (자주 사용되는 것만) >\n",
        "- %y : 년도 2자리\n",
        "- %Y : 년도 4자리\n",
        "- %m : 월\n",
        "- %d : 날짜 2자리\n",
        "- %M : 분\n",
        "- %S : 초\n",
        "\n",
        "datetime.strftime(' ')\n",
        "- 시계열 데이터 구분해서 추출"
      ],
      "metadata": {
        "id": "9UmuZpgEkoCZ"
      }
    },
    {
      "cell_type": "markdown",
      "source": [
        "datetime 오브젝트로 변환하기 -- read_csv 메서드\n",
        "\n",
        "---\n",
        "\n",
        "parse_dates=\n",
        "- datetime 오브젝트로 변환하고자 하는 열의 이름을 전달\n",
        "- pd.read_csv('file_path', parse_dates=['Date'])"
      ],
      "metadata": {
        "id": "0lIdNNFnkwx_"
      }
    },
    {
      "cell_type": "markdown",
      "source": [
        "datetime 오브젝트에서 날짜 정보 추출하기\n",
        "\n",
        "---\n",
        "\n",
        "datetime.year\n",
        "\n",
        "datetime.month\n",
        "\n",
        "datetime.day\n",
        "\n",
        "- datetime 오브젝트에서 년, 월, 일 정보를 바로 추출하는 함수"
      ],
      "metadata": {
        "id": "ZhdA2UaMlG0h"
      }
    },
    {
      "cell_type": "markdown",
      "source": [
        "dt 접근자 사용하기\n",
        "\n",
        "---\n",
        "\n",
        "dataframe['datetime'].dt.year\n",
        "- dt로 먼저 datetime 열에 접근 후 년도를 추출\n",
        "\n",
        "dataframe['datetime'].dt.month\n",
        "- dt로 먼저 datetime 열에 접근 후 월을 추출\n",
        "\n",
        "dataframe['datetime'].dt.day\n",
        "- dt로 먼저 datetime 열에 접근 후 날짜를 추출\n"
      ],
      "metadata": {
        "id": "YjDD1kZzl80S"
      }
    },
    {
      "cell_type": "markdown",
      "source": [
        "**12-2 사례별 시계열 데이터 계산하기**\n",
        "\n",
        "---\n",
        "\n",
        "데이터가 (역)순서대로 정렬되어있다면, 앞 5개 또는 마지막 5개의 행과 열을 살펴보는 것이 좋음\n",
        "\n",
        "< 에볼라 최초 발병일 계산하기 >\n",
        "\n",
        "에볼라의 진행 정도를 알기 위해 Date열에서 에볼라의 최초 발병일(date.minimum)을 뺌\n",
        "- ebola['date_dt'] - ebola['date_dt'].min()\n",
        "\n",
        "< 파산한 은행의 개수 계산하기 >\n",
        "\n",
        "datetime.dt.quarter\n",
        "- 시계열 데이터의 분기를 알 수 있는 dt 접근\n",
        "\n",
        "< 테슬라 주식 데이터로 시간 계산하기 >\n",
        "\n",
        "불린 인덱싱으로도 시계열 데이터 추출 가능\n",
        "- tesla.loc[(tesla.Date.dt.year==2010) & (tesla.Date.dt.year==6)]"
      ],
      "metadata": {
        "id": "c3cuHk7hm58F"
      }
    },
    {
      "cell_type": "markdown",
      "source": [
        "datetime 오브젝트와 인덱스 -- DatetimeIndex\n",
        "\n",
        "---\n",
        "\n",
        "datetime 오브젝트를 인덱스로 지정\n",
        "- df.index=df[ datetime ]\n",
        "\n",
        "index에서 year로 데이터 추출\n",
        "- tesla.loc['2015']"
      ],
      "metadata": {
        "id": "4jporvgIobpb"
      }
    },
    {
      "cell_type": "markdown",
      "source": [
        "시간 간격과 인덱스 -- TimedeltaIndex\n",
        "\n",
        "---\n",
        "\n",
        "시간 간격\n",
        "- Date 열에서 Date 열의 최솟값을 뺌\n",
        "\n"
      ],
      "metadata": {
        "id": "9INhL8HBpozn"
      }
    },
    {
      "cell_type": "markdown",
      "source": [
        "시간 범위와 인덱스\n",
        "\n",
        "---\n",
        "\n",
        "pd.date_range(start=' ', end=' ')\n",
        "- 시간 범위 데이터 추출\n",
        "\n",
        "df.reindex(pd.date_range(start=' ',end=' '))\n",
        "- 다시 인덱스 지정"
      ],
      "metadata": {
        "id": "mRcaO8KnqF00"
      }
    },
    {
      "cell_type": "markdown",
      "source": [
        "시간 범위 수정하고 데이터 밀어내기 -- shift 메서드\n",
        "\n",
        "---\n",
        "\n",
        "ax.legend(fontsize= , loc= , borderaxespad=0.)\n",
        "- loc 범례 위치 설정\n",
        "- borderaxespad=0. 플롯이랑 범례 위치 간격\n",
        "\n",
        "reversed(df.index)\n",
        "- 인덱스를 반대로 뒤집음\n",
        "\n",
        "last_valid_index\n",
        "- 유효한 값이 있는 마지막 인덱스\n",
        "\n",
        "first_valid_index\n",
        "- 유효한 값이 있는 첫 번째 인덱스\n",
        "\n",
        "shift()\n",
        "- 인잣값만큼 데이터를 밀어내는 메서드\n",
        "\n"
      ],
      "metadata": {
        "id": "KYugN8jJr9eE"
      }
    },
    {
      "cell_type": "markdown",
      "source": [
        "### **[ 필사 ]**"
      ],
      "metadata": {
        "id": "-J0z_7KnpPQl"
      }
    },
    {
      "cell_type": "markdown",
      "source": [
        "##### **12-1** datetime 오브젝트"
      ],
      "metadata": {
        "id": "b2Xxe_tRqx4m"
      }
    },
    {
      "cell_type": "markdown",
      "source": [
        "**datetime 오브젝트 사용하기**"
      ],
      "metadata": {
        "id": "RzRXezxurl6x"
      }
    },
    {
      "cell_type": "code",
      "execution_count": 5,
      "metadata": {
        "id": "NRK5R4vjBTI0"
      },
      "outputs": [],
      "source": [
        "from datetime import datetime"
      ]
    },
    {
      "cell_type": "code",
      "source": [
        "now1=datetime.now()\n",
        "print(now1)"
      ],
      "metadata": {
        "colab": {
          "base_uri": "https://localhost:8080/"
        },
        "id": "TuRio9_8rtiy",
        "outputId": "47e03190-4a22-4899-c79d-c253de823278"
      },
      "execution_count": 6,
      "outputs": [
        {
          "output_type": "stream",
          "name": "stdout",
          "text": [
            "2025-03-23 14:25:22.139866\n"
          ]
        }
      ]
    },
    {
      "cell_type": "code",
      "source": [
        "now2=datetime.today()\n",
        "print(now2)"
      ],
      "metadata": {
        "colab": {
          "base_uri": "https://localhost:8080/"
        },
        "id": "u8J6kvA1r4I6",
        "outputId": "6957fdcf-2fdf-4a4c-d125-9bb79a83bca3"
      },
      "execution_count": 7,
      "outputs": [
        {
          "output_type": "stream",
          "name": "stdout",
          "text": [
            "2025-03-23 14:25:22.174944\n"
          ]
        }
      ]
    },
    {
      "cell_type": "code",
      "source": [
        "t1=datetime.now()\n",
        "t2=datetime(1970,1,1)\n",
        "t3=datetime(1970,12,12,13,24,34)\n",
        "\n",
        "print(t1)\n",
        "print(t2)\n",
        "print(t3)"
      ],
      "metadata": {
        "colab": {
          "base_uri": "https://localhost:8080/"
        },
        "id": "V5J2obutr91T",
        "outputId": "66b4df01-689b-487f-8192-2e9375a2d1be"
      },
      "execution_count": 8,
      "outputs": [
        {
          "output_type": "stream",
          "name": "stdout",
          "text": [
            "2025-03-23 14:25:22.205677\n",
            "1970-01-01 00:00:00\n",
            "1970-12-12 13:24:34\n"
          ]
        }
      ]
    },
    {
      "cell_type": "code",
      "source": [
        "diff1=t1-t2\n",
        "\n",
        "print(diff1)\n",
        "print(type(diff1))"
      ],
      "metadata": {
        "colab": {
          "base_uri": "https://localhost:8080/"
        },
        "id": "_oZtoqs7s9R0",
        "outputId": "a3b5eb54-b5d7-4a57-bf0f-ccf36ad99300"
      },
      "execution_count": 9,
      "outputs": [
        {
          "output_type": "stream",
          "name": "stdout",
          "text": [
            "20170 days, 14:25:22.205677\n",
            "<class 'datetime.timedelta'>\n"
          ]
        }
      ]
    },
    {
      "cell_type": "code",
      "source": [
        "diff2=t2-t1\n",
        "\n",
        "print(diff2)\n",
        "print(type(diff2))"
      ],
      "metadata": {
        "colab": {
          "base_uri": "https://localhost:8080/"
        },
        "id": "XSS0EuVAtFKW",
        "outputId": "eff3f739-02b0-4944-a41b-6607a09c935c"
      },
      "execution_count": 10,
      "outputs": [
        {
          "output_type": "stream",
          "name": "stdout",
          "text": [
            "-20171 days, 9:34:37.794323\n",
            "<class 'datetime.timedelta'>\n"
          ]
        }
      ]
    },
    {
      "cell_type": "markdown",
      "source": [
        "**datetime 오브젝트로 변환하기 - to_datetime 메서드**"
      ],
      "metadata": {
        "id": "yOtD9zPYtONP"
      }
    },
    {
      "cell_type": "code",
      "source": [
        "import pandas as pd\n",
        "import os\n",
        "\n",
        "ebola=pd.read_csv('/content/drive/MyDrive/ESAA YB/dataset/country_timeseries.csv')"
      ],
      "metadata": {
        "id": "J8UvzDKetNTZ"
      },
      "execution_count": 11,
      "outputs": []
    },
    {
      "cell_type": "code",
      "source": [
        "print(ebola.info())"
      ],
      "metadata": {
        "colab": {
          "base_uri": "https://localhost:8080/"
        },
        "id": "OVVnKWO2uruf",
        "outputId": "d688f806-dfc7-490b-a568-788fc6d25f81"
      },
      "execution_count": 12,
      "outputs": [
        {
          "output_type": "stream",
          "name": "stdout",
          "text": [
            "<class 'pandas.core.frame.DataFrame'>\n",
            "RangeIndex: 122 entries, 0 to 121\n",
            "Data columns (total 18 columns):\n",
            " #   Column               Non-Null Count  Dtype  \n",
            "---  ------               --------------  -----  \n",
            " 0   Date                 122 non-null    object \n",
            " 1   Day                  122 non-null    int64  \n",
            " 2   Cases_Guinea         93 non-null     float64\n",
            " 3   Cases_Liberia        83 non-null     float64\n",
            " 4   Cases_SierraLeone    87 non-null     float64\n",
            " 5   Cases_Nigeria        38 non-null     float64\n",
            " 6   Cases_Senegal        25 non-null     float64\n",
            " 7   Cases_UnitedStates   18 non-null     float64\n",
            " 8   Cases_Spain          16 non-null     float64\n",
            " 9   Cases_Mali           12 non-null     float64\n",
            " 10  Deaths_Guinea        92 non-null     float64\n",
            " 11  Deaths_Liberia       81 non-null     float64\n",
            " 12  Deaths_SierraLeone   87 non-null     float64\n",
            " 13  Deaths_Nigeria       38 non-null     float64\n",
            " 14  Deaths_Senegal       22 non-null     float64\n",
            " 15  Deaths_UnitedStates  18 non-null     float64\n",
            " 16  Deaths_Spain         16 non-null     float64\n",
            " 17  Deaths_Mali          12 non-null     float64\n",
            "dtypes: float64(16), int64(1), object(1)\n",
            "memory usage: 17.3+ KB\n",
            "None\n"
          ]
        }
      ]
    },
    {
      "cell_type": "code",
      "source": [
        "ebola['date_dt']=pd.to_datetime(ebola['Date'])\n",
        "print(ebola.info())"
      ],
      "metadata": {
        "colab": {
          "base_uri": "https://localhost:8080/"
        },
        "id": "jbFfZh4bxCTp",
        "outputId": "69fc0cd1-e98e-4d95-b040-915ccc4a8f87"
      },
      "execution_count": 13,
      "outputs": [
        {
          "output_type": "stream",
          "name": "stdout",
          "text": [
            "<class 'pandas.core.frame.DataFrame'>\n",
            "RangeIndex: 122 entries, 0 to 121\n",
            "Data columns (total 19 columns):\n",
            " #   Column               Non-Null Count  Dtype         \n",
            "---  ------               --------------  -----         \n",
            " 0   Date                 122 non-null    object        \n",
            " 1   Day                  122 non-null    int64         \n",
            " 2   Cases_Guinea         93 non-null     float64       \n",
            " 3   Cases_Liberia        83 non-null     float64       \n",
            " 4   Cases_SierraLeone    87 non-null     float64       \n",
            " 5   Cases_Nigeria        38 non-null     float64       \n",
            " 6   Cases_Senegal        25 non-null     float64       \n",
            " 7   Cases_UnitedStates   18 non-null     float64       \n",
            " 8   Cases_Spain          16 non-null     float64       \n",
            " 9   Cases_Mali           12 non-null     float64       \n",
            " 10  Deaths_Guinea        92 non-null     float64       \n",
            " 11  Deaths_Liberia       81 non-null     float64       \n",
            " 12  Deaths_SierraLeone   87 non-null     float64       \n",
            " 13  Deaths_Nigeria       38 non-null     float64       \n",
            " 14  Deaths_Senegal       22 non-null     float64       \n",
            " 15  Deaths_UnitedStates  18 non-null     float64       \n",
            " 16  Deaths_Spain         16 non-null     float64       \n",
            " 17  Deaths_Mali          12 non-null     float64       \n",
            " 18  date_dt              122 non-null    datetime64[ns]\n",
            "dtypes: datetime64[ns](1), float64(16), int64(1), object(1)\n",
            "memory usage: 18.2+ KB\n",
            "None\n"
          ]
        }
      ]
    },
    {
      "cell_type": "code",
      "source": [
        "test_df1=pd.DataFrame({'order_day':['01/01/15','02/01/15','03/01/15']})\n",
        "\n",
        "test_df1['date_dt1']=pd.to_datetime(test_df1['order_day'],format='%d/%m/%y')\n",
        "test_df1['date_dt2']=pd.to_datetime(test_df1['order_day'],format='%m/%d/%y')\n",
        "test_df1['date_dt3']=pd.to_datetime(test_df1['order_day'],format='%y/%m/%d')\n",
        "\n",
        "print(test_df1)"
      ],
      "metadata": {
        "colab": {
          "base_uri": "https://localhost:8080/"
        },
        "id": "x2wWxzfuxOCR",
        "outputId": "fa575ff9-0c21-4f90-dd82-a9e165faaf9b"
      },
      "execution_count": 14,
      "outputs": [
        {
          "output_type": "stream",
          "name": "stdout",
          "text": [
            "  order_day   date_dt1   date_dt2   date_dt3\n",
            "0  01/01/15 2015-01-01 2015-01-01 2001-01-15\n",
            "1  02/01/15 2015-01-02 2015-02-01 2002-01-15\n",
            "2  03/01/15 2015-01-03 2015-03-01 2003-01-15\n"
          ]
        }
      ]
    },
    {
      "cell_type": "code",
      "source": [
        "test_df2=pd.DataFrame({'order_day':['01-01-15','02-01-15','03-01-15']})\n",
        "test_df2['date_dt']=pd.to_datetime(test_df2['order_day'],format='%d-%m-%y')\n",
        "\n",
        "print(test_df2)"
      ],
      "metadata": {
        "colab": {
          "base_uri": "https://localhost:8080/"
        },
        "id": "fAuBduB8yBmz",
        "outputId": "7c33bf37-cba2-4fde-922d-7eeb4f9d2051"
      },
      "execution_count": 15,
      "outputs": [
        {
          "output_type": "stream",
          "name": "stdout",
          "text": [
            "  order_day    date_dt\n",
            "0  01-01-15 2015-01-01\n",
            "1  02-01-15 2015-01-02\n",
            "2  03-01-15 2015-01-03\n"
          ]
        }
      ]
    },
    {
      "cell_type": "markdown",
      "source": [
        "**시간 형식 지정자**"
      ],
      "metadata": {
        "id": "_6RIX2jmya9m"
      }
    },
    {
      "cell_type": "markdown",
      "source": [
        "**시계열 데이터 구분 추출**"
      ],
      "metadata": {
        "id": "iLCoUN6tzRXs"
      }
    },
    {
      "cell_type": "code",
      "source": [
        "now=datetime.now()\n",
        "print(now)"
      ],
      "metadata": {
        "colab": {
          "base_uri": "https://localhost:8080/"
        },
        "id": "vAkr3adtyTsJ",
        "outputId": "9a63c1bc-33a7-48cb-e441-092664400988"
      },
      "execution_count": 16,
      "outputs": [
        {
          "output_type": "stream",
          "name": "stdout",
          "text": [
            "2025-03-23 14:25:24.671936\n"
          ]
        }
      ]
    },
    {
      "cell_type": "code",
      "source": [
        "nowDate=now.strftime('%Y-%m-%d')\n",
        "print(nowDate)"
      ],
      "metadata": {
        "colab": {
          "base_uri": "https://localhost:8080/"
        },
        "id": "CPwdAy6GzWZs",
        "outputId": "13bbe55c-ff53-4d0a-8e03-a26c94624d04"
      },
      "execution_count": 17,
      "outputs": [
        {
          "output_type": "stream",
          "name": "stdout",
          "text": [
            "2025-03-23\n"
          ]
        }
      ]
    },
    {
      "cell_type": "code",
      "source": [
        "nowTime=now.strftime('%H:%M:%S')\n",
        "print(nowTime)"
      ],
      "metadata": {
        "colab": {
          "base_uri": "https://localhost:8080/"
        },
        "id": "-HW3soG7zcPr",
        "outputId": "2279d8d1-828b-4ecd-e1cb-4062dd33519f"
      },
      "execution_count": 18,
      "outputs": [
        {
          "output_type": "stream",
          "name": "stdout",
          "text": [
            "14:25:24\n"
          ]
        }
      ]
    },
    {
      "cell_type": "code",
      "source": [
        "nowDatetime=now.strftime('%Y-%m-%d %H:%M:%S')\n",
        "print(nowDatetime)"
      ],
      "metadata": {
        "colab": {
          "base_uri": "https://localhost:8080/"
        },
        "id": "WaLzZ1rmzoRi",
        "outputId": "0d95a5f8-1a76-463a-d394-2c407fef31b5"
      },
      "execution_count": 19,
      "outputs": [
        {
          "output_type": "stream",
          "name": "stdout",
          "text": [
            "2025-03-23 14:25:24\n"
          ]
        }
      ]
    },
    {
      "cell_type": "markdown",
      "source": [
        "**datetime 오브젝트로 변환하기 - read_csv 메서드**"
      ],
      "metadata": {
        "id": "h5iqSLVW0-FS"
      }
    },
    {
      "cell_type": "code",
      "source": [
        "ebola1=pd.read_csv('/content/drive/MyDrive/ESAA YB/dataset/country_timeseries.csv',parse_dates=['Date'])\n",
        "print(ebola1.info())"
      ],
      "metadata": {
        "colab": {
          "base_uri": "https://localhost:8080/"
        },
        "id": "oxBr10IUzyUy",
        "outputId": "742b00ea-13f2-4a4a-8d86-76348511f174"
      },
      "execution_count": 20,
      "outputs": [
        {
          "output_type": "stream",
          "name": "stdout",
          "text": [
            "<class 'pandas.core.frame.DataFrame'>\n",
            "RangeIndex: 122 entries, 0 to 121\n",
            "Data columns (total 18 columns):\n",
            " #   Column               Non-Null Count  Dtype         \n",
            "---  ------               --------------  -----         \n",
            " 0   Date                 122 non-null    datetime64[ns]\n",
            " 1   Day                  122 non-null    int64         \n",
            " 2   Cases_Guinea         93 non-null     float64       \n",
            " 3   Cases_Liberia        83 non-null     float64       \n",
            " 4   Cases_SierraLeone    87 non-null     float64       \n",
            " 5   Cases_Nigeria        38 non-null     float64       \n",
            " 6   Cases_Senegal        25 non-null     float64       \n",
            " 7   Cases_UnitedStates   18 non-null     float64       \n",
            " 8   Cases_Spain          16 non-null     float64       \n",
            " 9   Cases_Mali           12 non-null     float64       \n",
            " 10  Deaths_Guinea        92 non-null     float64       \n",
            " 11  Deaths_Liberia       81 non-null     float64       \n",
            " 12  Deaths_SierraLeone   87 non-null     float64       \n",
            " 13  Deaths_Nigeria       38 non-null     float64       \n",
            " 14  Deaths_Senegal       22 non-null     float64       \n",
            " 15  Deaths_UnitedStates  18 non-null     float64       \n",
            " 16  Deaths_Spain         16 non-null     float64       \n",
            " 17  Deaths_Mali          12 non-null     float64       \n",
            "dtypes: datetime64[ns](1), float64(16), int64(1)\n",
            "memory usage: 17.3 KB\n",
            "None\n"
          ]
        }
      ]
    },
    {
      "cell_type": "markdown",
      "source": [
        "datetime 오브젝트에서 날짜 정보 추출하기"
      ],
      "metadata": {
        "id": "KMmF58pH1dXw"
      }
    },
    {
      "cell_type": "code",
      "source": [
        "date_series=pd.Series(['2018-05-16','2018-05-17','2018-05-08'])\n",
        "d1=pd.to_datetime(date_series)\n",
        "print(d1)"
      ],
      "metadata": {
        "colab": {
          "base_uri": "https://localhost:8080/"
        },
        "id": "4PxV_Ocd1cMy",
        "outputId": "8e376997-b73e-4b2b-bdc8-bd26bbde282a"
      },
      "execution_count": 21,
      "outputs": [
        {
          "output_type": "stream",
          "name": "stdout",
          "text": [
            "0   2018-05-16\n",
            "1   2018-05-17\n",
            "2   2018-05-08\n",
            "dtype: datetime64[ns]\n"
          ]
        }
      ]
    },
    {
      "cell_type": "code",
      "source": [
        "print(d1[0].year)"
      ],
      "metadata": {
        "colab": {
          "base_uri": "https://localhost:8080/"
        },
        "id": "X8gCCrhy1pyC",
        "outputId": "b1068014-d65c-41fe-df87-dcef41d03f12"
      },
      "execution_count": 22,
      "outputs": [
        {
          "output_type": "stream",
          "name": "stdout",
          "text": [
            "2018\n"
          ]
        }
      ]
    },
    {
      "cell_type": "code",
      "source": [
        "print(d1[0].month)"
      ],
      "metadata": {
        "colab": {
          "base_uri": "https://localhost:8080/"
        },
        "id": "9Yk_zYpu1uSq",
        "outputId": "0070205a-4b2b-4303-ba85-4a6f455bc72f"
      },
      "execution_count": 23,
      "outputs": [
        {
          "output_type": "stream",
          "name": "stdout",
          "text": [
            "5\n"
          ]
        }
      ]
    },
    {
      "cell_type": "code",
      "source": [
        "print(d1[0].day)"
      ],
      "metadata": {
        "colab": {
          "base_uri": "https://localhost:8080/"
        },
        "id": "gjLgdmFM1xtR",
        "outputId": "f94f26be-0ff2-4e81-ca4b-18cc11d9b472"
      },
      "execution_count": 24,
      "outputs": [
        {
          "output_type": "stream",
          "name": "stdout",
          "text": [
            "16\n"
          ]
        }
      ]
    },
    {
      "cell_type": "markdown",
      "source": [
        "df 접근자 사용하기"
      ],
      "metadata": {
        "id": "DZfghXip1z0K"
      }
    },
    {
      "cell_type": "code",
      "source": [
        "ebola=pd.read_csv('/content/drive/MyDrive/ESAA YB/dataset/country_timeseries.csv')\n",
        "ebola['date_dt']=pd.to_datetime(ebola['Date'])"
      ],
      "metadata": {
        "id": "wcP1D5Uu1y6X"
      },
      "execution_count": 25,
      "outputs": []
    },
    {
      "cell_type": "code",
      "source": [
        "print(ebola[['Date','date_dt']].head())"
      ],
      "metadata": {
        "colab": {
          "base_uri": "https://localhost:8080/"
        },
        "id": "quNLc6kq18AP",
        "outputId": "dbddfedf-c382-40c7-8e72-ec4769a5c18c"
      },
      "execution_count": 26,
      "outputs": [
        {
          "output_type": "stream",
          "name": "stdout",
          "text": [
            "         Date    date_dt\n",
            "0    1/5/2015 2015-01-05\n",
            "1    1/4/2015 2015-01-04\n",
            "2    1/3/2015 2015-01-03\n",
            "3    1/2/2015 2015-01-02\n",
            "4  12/31/2014 2014-12-31\n"
          ]
        }
      ]
    },
    {
      "cell_type": "code",
      "source": [
        "print(ebola['date_dt'][3].year)"
      ],
      "metadata": {
        "colab": {
          "base_uri": "https://localhost:8080/"
        },
        "id": "-5PqAyk12EtK",
        "outputId": "f56d3cb0-b9e2-4eda-de94-3f7681d2b459"
      },
      "execution_count": 27,
      "outputs": [
        {
          "output_type": "stream",
          "name": "stdout",
          "text": [
            "2015\n"
          ]
        }
      ]
    },
    {
      "cell_type": "code",
      "source": [
        "print(ebola['date_dt'][3].month)"
      ],
      "metadata": {
        "colab": {
          "base_uri": "https://localhost:8080/"
        },
        "id": "Y-JsSG8u2Jwz",
        "outputId": "a3811bab-6209-475c-b5e5-114093fcc30a"
      },
      "execution_count": 28,
      "outputs": [
        {
          "output_type": "stream",
          "name": "stdout",
          "text": [
            "1\n"
          ]
        }
      ]
    },
    {
      "cell_type": "code",
      "source": [
        "print(ebola['date_dt'][3].day)"
      ],
      "metadata": {
        "colab": {
          "base_uri": "https://localhost:8080/"
        },
        "id": "Fma0ELX72Rao",
        "outputId": "afc1bbaf-8cbd-411b-e530-7ca0829ac3c9"
      },
      "execution_count": 29,
      "outputs": [
        {
          "output_type": "stream",
          "name": "stdout",
          "text": [
            "2\n"
          ]
        }
      ]
    },
    {
      "cell_type": "code",
      "source": [
        "ebola['year']=ebola['date_dt'].dt.year\n",
        "print(ebola[['Date','date_dt','year']].head())"
      ],
      "metadata": {
        "colab": {
          "base_uri": "https://localhost:8080/"
        },
        "id": "tOzg48em2Tx5",
        "outputId": "bcd44dd6-1b96-4702-de93-732bb998b798"
      },
      "execution_count": 30,
      "outputs": [
        {
          "output_type": "stream",
          "name": "stdout",
          "text": [
            "         Date    date_dt  year\n",
            "0    1/5/2015 2015-01-05  2015\n",
            "1    1/4/2015 2015-01-04  2015\n",
            "2    1/3/2015 2015-01-03  2015\n",
            "3    1/2/2015 2015-01-02  2015\n",
            "4  12/31/2014 2014-12-31  2014\n"
          ]
        }
      ]
    },
    {
      "cell_type": "code",
      "source": [
        "ebola['month'],ebola['day']=(ebola['date_dt'].dt.month,ebola['date_dt'].dt.day)\n",
        "print(ebola[['Date','date_dt','year','month','day']].head())"
      ],
      "metadata": {
        "colab": {
          "base_uri": "https://localhost:8080/"
        },
        "id": "55PZ0RWF2ef_",
        "outputId": "d0fae4d9-71c3-49e2-a379-477671fb456c"
      },
      "execution_count": 31,
      "outputs": [
        {
          "output_type": "stream",
          "name": "stdout",
          "text": [
            "         Date    date_dt  year  month  day\n",
            "0    1/5/2015 2015-01-05  2015      1    5\n",
            "1    1/4/2015 2015-01-04  2015      1    4\n",
            "2    1/3/2015 2015-01-03  2015      1    3\n",
            "3    1/2/2015 2015-01-02  2015      1    2\n",
            "4  12/31/2014 2014-12-31  2014     12   31\n"
          ]
        }
      ]
    },
    {
      "cell_type": "code",
      "source": [
        "print(ebola.info())"
      ],
      "metadata": {
        "colab": {
          "base_uri": "https://localhost:8080/"
        },
        "id": "OPXiDkrUW7lI",
        "outputId": "d82ea749-c045-48ee-8736-5ec68c82c862"
      },
      "execution_count": 32,
      "outputs": [
        {
          "output_type": "stream",
          "name": "stdout",
          "text": [
            "<class 'pandas.core.frame.DataFrame'>\n",
            "RangeIndex: 122 entries, 0 to 121\n",
            "Data columns (total 22 columns):\n",
            " #   Column               Non-Null Count  Dtype         \n",
            "---  ------               --------------  -----         \n",
            " 0   Date                 122 non-null    object        \n",
            " 1   Day                  122 non-null    int64         \n",
            " 2   Cases_Guinea         93 non-null     float64       \n",
            " 3   Cases_Liberia        83 non-null     float64       \n",
            " 4   Cases_SierraLeone    87 non-null     float64       \n",
            " 5   Cases_Nigeria        38 non-null     float64       \n",
            " 6   Cases_Senegal        25 non-null     float64       \n",
            " 7   Cases_UnitedStates   18 non-null     float64       \n",
            " 8   Cases_Spain          16 non-null     float64       \n",
            " 9   Cases_Mali           12 non-null     float64       \n",
            " 10  Deaths_Guinea        92 non-null     float64       \n",
            " 11  Deaths_Liberia       81 non-null     float64       \n",
            " 12  Deaths_SierraLeone   87 non-null     float64       \n",
            " 13  Deaths_Nigeria       38 non-null     float64       \n",
            " 14  Deaths_Senegal       22 non-null     float64       \n",
            " 15  Deaths_UnitedStates  18 non-null     float64       \n",
            " 16  Deaths_Spain         16 non-null     float64       \n",
            " 17  Deaths_Mali          12 non-null     float64       \n",
            " 18  date_dt              122 non-null    datetime64[ns]\n",
            " 19  year                 122 non-null    int32         \n",
            " 20  month                122 non-null    int32         \n",
            " 21  day                  122 non-null    int32         \n",
            "dtypes: datetime64[ns](1), float64(16), int32(3), int64(1), object(1)\n",
            "memory usage: 19.7+ KB\n",
            "None\n"
          ]
        }
      ]
    },
    {
      "cell_type": "markdown",
      "source": [
        "##### **12-2** 사례별 시계열 데이터 계산하기"
      ],
      "metadata": {
        "id": "jXoIBcxnYS0L"
      }
    },
    {
      "cell_type": "markdown",
      "source": [
        "애볼라 최초 발병일 계산하기"
      ],
      "metadata": {
        "id": "_T9jqXw-Yggm"
      }
    },
    {
      "cell_type": "code",
      "source": [
        "print(ebola.iloc[-5:,:5])"
      ],
      "metadata": {
        "colab": {
          "base_uri": "https://localhost:8080/"
        },
        "id": "sLlmgNSoYPkg",
        "outputId": "674d435c-ce64-40cd-cc60-18c58f8bbffa"
      },
      "execution_count": 33,
      "outputs": [
        {
          "output_type": "stream",
          "name": "stdout",
          "text": [
            "          Date  Day  Cases_Guinea  Cases_Liberia  Cases_SierraLeone\n",
            "117  3/27/2014    5         103.0            8.0                6.0\n",
            "118  3/26/2014    4          86.0            NaN                NaN\n",
            "119  3/25/2014    3          86.0            NaN                NaN\n",
            "120  3/24/2014    2          86.0            NaN                NaN\n",
            "121  3/22/2014    0          49.0            NaN                NaN\n"
          ]
        }
      ]
    },
    {
      "cell_type": "code",
      "source": [
        "print(ebola['date_dt'].min())\n",
        "print(type(ebola['date_dt'].min()))"
      ],
      "metadata": {
        "colab": {
          "base_uri": "https://localhost:8080/"
        },
        "id": "P3jRBBtfYm5q",
        "outputId": "9090c6c5-95d7-43f0-942a-0c5dd4f61b9c"
      },
      "execution_count": 34,
      "outputs": [
        {
          "output_type": "stream",
          "name": "stdout",
          "text": [
            "2014-03-22 00:00:00\n",
            "<class 'pandas._libs.tslibs.timestamps.Timestamp'>\n"
          ]
        }
      ]
    },
    {
      "cell_type": "code",
      "source": [
        "ebola['outbreak_d']=ebola['date_dt']-ebola['date_dt'].min()\n",
        "print(ebola[['Date','Day','outbreak_d']].head())"
      ],
      "metadata": {
        "id": "wfikGVESadf2",
        "colab": {
          "base_uri": "https://localhost:8080/"
        },
        "outputId": "11d30efe-e39b-46b4-d476-b5d90b9f068b"
      },
      "execution_count": 35,
      "outputs": [
        {
          "output_type": "stream",
          "name": "stdout",
          "text": [
            "         Date  Day outbreak_d\n",
            "0    1/5/2015  289   289 days\n",
            "1    1/4/2015  288   288 days\n",
            "2    1/3/2015  287   287 days\n",
            "3    1/2/2015  286   286 days\n",
            "4  12/31/2014  284   284 days\n"
          ]
        }
      ]
    },
    {
      "cell_type": "markdown",
      "source": [
        "파산한 은행의 개수 계산하기"
      ],
      "metadata": {
        "id": "kQLPpqLdQX4q"
      }
    },
    {
      "cell_type": "code",
      "source": [
        "banks=pd.read_csv(\"/content/drive/MyDrive/ESAA YB/dataset/banklist.csv\")\n",
        "print(banks.head())"
      ],
      "metadata": {
        "id": "ZJ7PEp4QQDQr",
        "colab": {
          "base_uri": "https://localhost:8080/"
        },
        "outputId": "a0ccab74-0dbf-4ac4-cc9b-9853987ead9d"
      },
      "execution_count": 36,
      "outputs": [
        {
          "output_type": "stream",
          "name": "stdout",
          "text": [
            "                                           Bank Name                City  ST  \\\n",
            "0                                Fayette County Bank          Saint Elmo  IL   \n",
            "1  Guaranty Bank, (d/b/a BestBank in Georgia & Mi...           Milwaukee  WI   \n",
            "2                                     First NBC Bank         New Orleans  LA   \n",
            "3                                      Proficio Bank  Cottonwood Heights  UT   \n",
            "4                      Seaway Bank and Trust Company             Chicago  IL   \n",
            "\n",
            "    CERT                Acquiring Institution Closing Date Updated Date  \n",
            "0   1802            United Fidelity Bank, fsb    26-May-17    26-Jul-17  \n",
            "1  30003  First-Citizens Bank & Trust Company     5-May-17    26-Jul-17  \n",
            "2  58302                         Whitney Bank    28-Apr-17    26-Jul-17  \n",
            "3  35495                    Cache Valley Bank     3-Mar-17    18-May-17  \n",
            "4  19328                  State Bank of Texas    27-Jan-17    18-May-17  \n"
          ]
        }
      ]
    },
    {
      "cell_type": "code",
      "source": [
        "banks_no_dates=pd.read_csv(\"/content/drive/MyDrive/ESAA YB/dataset/banklist.csv\")\n",
        "print(banks_no_dates.info())"
      ],
      "metadata": {
        "colab": {
          "base_uri": "https://localhost:8080/"
        },
        "id": "GcX0kY4CQ6Y_",
        "outputId": "fc64b934-0abb-4658-95e5-71a20e26290a"
      },
      "execution_count": 37,
      "outputs": [
        {
          "output_type": "stream",
          "name": "stdout",
          "text": [
            "<class 'pandas.core.frame.DataFrame'>\n",
            "RangeIndex: 553 entries, 0 to 552\n",
            "Data columns (total 7 columns):\n",
            " #   Column                 Non-Null Count  Dtype \n",
            "---  ------                 --------------  ----- \n",
            " 0   Bank Name              553 non-null    object\n",
            " 1   City                   553 non-null    object\n",
            " 2   ST                     553 non-null    object\n",
            " 3   CERT                   553 non-null    int64 \n",
            " 4   Acquiring Institution  553 non-null    object\n",
            " 5   Closing Date           553 non-null    object\n",
            " 6   Updated Date           553 non-null    object\n",
            "dtypes: int64(1), object(6)\n",
            "memory usage: 30.4+ KB\n",
            "None\n"
          ]
        }
      ]
    },
    {
      "cell_type": "code",
      "source": [
        "banks=pd.read_csv('/content/drive/MyDrive/ESAA YB/dataset/banklist.csv',parse_dates=[5,6])\n",
        "print(banks.info())"
      ],
      "metadata": {
        "colab": {
          "base_uri": "https://localhost:8080/"
        },
        "id": "2fjEiolvRhro",
        "outputId": "5ac01009-8912-4631-e2f8-42f50ba7ca34"
      },
      "execution_count": 38,
      "outputs": [
        {
          "output_type": "stream",
          "name": "stdout",
          "text": [
            "<class 'pandas.core.frame.DataFrame'>\n",
            "RangeIndex: 553 entries, 0 to 552\n",
            "Data columns (total 7 columns):\n",
            " #   Column                 Non-Null Count  Dtype         \n",
            "---  ------                 --------------  -----         \n",
            " 0   Bank Name              553 non-null    object        \n",
            " 1   City                   553 non-null    object        \n",
            " 2   ST                     553 non-null    object        \n",
            " 3   CERT                   553 non-null    int64         \n",
            " 4   Acquiring Institution  553 non-null    object        \n",
            " 5   Closing Date           553 non-null    datetime64[ns]\n",
            " 6   Updated Date           553 non-null    datetime64[ns]\n",
            "dtypes: datetime64[ns](2), int64(1), object(4)\n",
            "memory usage: 30.4+ KB\n",
            "None\n"
          ]
        },
        {
          "output_type": "stream",
          "name": "stderr",
          "text": [
            "<ipython-input-38-12d39feb36ed>:1: UserWarning: Could not infer format, so each element will be parsed individually, falling back to `dateutil`. To ensure parsing is consistent and as-expected, please specify a format.\n",
            "  banks=pd.read_csv('/content/drive/MyDrive/ESAA YB/dataset/banklist.csv',parse_dates=[5,6])\n",
            "<ipython-input-38-12d39feb36ed>:1: UserWarning: Could not infer format, so each element will be parsed individually, falling back to `dateutil`. To ensure parsing is consistent and as-expected, please specify a format.\n",
            "  banks=pd.read_csv('/content/drive/MyDrive/ESAA YB/dataset/banklist.csv',parse_dates=[5,6])\n"
          ]
        }
      ]
    },
    {
      "cell_type": "code",
      "source": [
        "banks['closing_quarter'],banks['closing_year']=(banks['Closing Date'].dt.quarter,banks['Closing Date'].dt.year)\n",
        "print(banks.head())"
      ],
      "metadata": {
        "colab": {
          "base_uri": "https://localhost:8080/"
        },
        "id": "ro8ZTU6ERpxU",
        "outputId": "2f1ed1e9-f60c-42b4-f1bf-35177bfc2bfd"
      },
      "execution_count": 39,
      "outputs": [
        {
          "output_type": "stream",
          "name": "stdout",
          "text": [
            "                                           Bank Name                City  ST  \\\n",
            "0                                Fayette County Bank          Saint Elmo  IL   \n",
            "1  Guaranty Bank, (d/b/a BestBank in Georgia & Mi...           Milwaukee  WI   \n",
            "2                                     First NBC Bank         New Orleans  LA   \n",
            "3                                      Proficio Bank  Cottonwood Heights  UT   \n",
            "4                      Seaway Bank and Trust Company             Chicago  IL   \n",
            "\n",
            "    CERT                Acquiring Institution Closing Date Updated Date  \\\n",
            "0   1802            United Fidelity Bank, fsb   2017-05-26   2017-07-26   \n",
            "1  30003  First-Citizens Bank & Trust Company   2017-05-05   2017-07-26   \n",
            "2  58302                         Whitney Bank   2017-04-28   2017-07-26   \n",
            "3  35495                    Cache Valley Bank   2017-03-03   2017-05-18   \n",
            "4  19328                  State Bank of Texas   2017-01-27   2017-05-18   \n",
            "\n",
            "   closing_quarter  closing_year  \n",
            "0                2          2017  \n",
            "1                2          2017  \n",
            "2                2          2017  \n",
            "3                1          2017  \n",
            "4                1          2017  \n"
          ]
        }
      ]
    },
    {
      "cell_type": "code",
      "source": [
        "closing_year=banks.groupby(['closing_year']).size()\n",
        "print(closing_year)"
      ],
      "metadata": {
        "colab": {
          "base_uri": "https://localhost:8080/"
        },
        "id": "7zu0Z4ozSFl1",
        "outputId": "e548bc2e-2ad3-4867-8195-1dfff4faf82c"
      },
      "execution_count": 40,
      "outputs": [
        {
          "output_type": "stream",
          "name": "stdout",
          "text": [
            "closing_year\n",
            "2000      2\n",
            "2001      4\n",
            "2002     11\n",
            "2003      3\n",
            "2004      4\n",
            "2007      3\n",
            "2008     25\n",
            "2009    140\n",
            "2010    157\n",
            "2011     92\n",
            "2012     51\n",
            "2013     24\n",
            "2014     18\n",
            "2015      8\n",
            "2016      5\n",
            "2017      6\n",
            "dtype: int64\n"
          ]
        }
      ]
    },
    {
      "cell_type": "code",
      "source": [
        "closing_year_q=banks.groupby(['closing_year','closing_quarter']).size()\n",
        "print(closing_year_q)"
      ],
      "metadata": {
        "colab": {
          "base_uri": "https://localhost:8080/"
        },
        "id": "4DvONA4tSo1r",
        "outputId": "1930e15c-8abd-4d2e-e868-5923efd08c5d"
      },
      "execution_count": 41,
      "outputs": [
        {
          "output_type": "stream",
          "name": "stdout",
          "text": [
            "closing_year  closing_quarter\n",
            "2000          4                   2\n",
            "2001          1                   1\n",
            "              2                   1\n",
            "              3                   2\n",
            "2002          1                   6\n",
            "              2                   2\n",
            "              3                   1\n",
            "              4                   2\n",
            "2003          1                   1\n",
            "              2                   1\n",
            "              4                   1\n",
            "2004          1                   3\n",
            "              2                   1\n",
            "2007          1                   1\n",
            "              3                   1\n",
            "              4                   1\n",
            "2008          1                   2\n",
            "              2                   2\n",
            "              3                   9\n",
            "              4                  12\n",
            "2009          1                  21\n",
            "              2                  24\n",
            "              3                  50\n",
            "              4                  45\n",
            "2010          1                  41\n",
            "              2                  45\n",
            "              3                  41\n",
            "              4                  30\n",
            "2011          1                  26\n",
            "              2                  22\n",
            "              3                  26\n",
            "              4                  18\n",
            "2012          1                  16\n",
            "              2                  15\n",
            "              3                  12\n",
            "              4                   8\n",
            "2013          1                   4\n",
            "              2                  12\n",
            "              3                   6\n",
            "              4                   2\n",
            "2014          1                   5\n",
            "              2                   7\n",
            "              3                   2\n",
            "              4                   4\n",
            "2015          1                   4\n",
            "              2                   1\n",
            "              3                   1\n",
            "              4                   2\n",
            "2016          1                   1\n",
            "              2                   2\n",
            "              3                   2\n",
            "2017          1                   3\n",
            "              2                   3\n",
            "dtype: int64\n"
          ]
        }
      ]
    },
    {
      "cell_type": "code",
      "source": [
        "import matplotlib.pyplot as plt\n",
        "fig,ax=plt.subplots()\n",
        "ax=closing_year.plot()\n",
        "plt.show()\n",
        "\n",
        "fig,ax=plt.subplots()\n",
        "ax=closing_year_q.plot()\n",
        "plt.show()"
      ],
      "metadata": {
        "colab": {
          "base_uri": "https://localhost:8080/",
          "height": 883
        },
        "id": "5FzserQ0S3vN",
        "outputId": "d9893bb7-b88f-4691-ae73-e04d0b8dc3c4"
      },
      "execution_count": 42,
      "outputs": [
        {
          "output_type": "display_data",
          "data": {
            "text/plain": [
              "<Figure size 640x480 with 1 Axes>"
            ],
            "image/png": "[encoded data removed]"
          },
          "metadata": {}
        },
        {
          "output_type": "display_data",
          "data": {
            "text/plain": [
              "<Figure size 640x480 with 1 Axes>"
            ],
            "image/png": "[encoded data removed]"
          },
          "metadata": {}
        }
      ]
    },
    {
      "cell_type": "markdown",
      "source": [
        "테슬라 주식 데이터로 시간 계산하기"
      ],
      "metadata": {
        "id": "5oaVc7hSTKTe"
      }
    },
    {
      "cell_type": "code",
      "source": [
        "pip install pandas_datareader"
      ],
      "metadata": {
        "colab": {
          "base_uri": "https://localhost:8080/"
        },
        "id": "MY2Pkd48TEmt",
        "outputId": "b2f6fd8e-7b61-4872-baeb-baa2cd51028c"
      },
      "execution_count": 43,
      "outputs": [
        {
          "output_type": "stream",
          "name": "stdout",
          "text": [
            "Requirement already satisfied: pandas_datareader in /usr/local/lib/python3.11/dist-packages (0.10.0)\n",
            "Requirement already satisfied: lxml in /usr/local/lib/python3.11/dist-packages (from pandas_datareader) (5.3.1)\n",
            "Requirement already satisfied: pandas>=0.23 in /usr/local/lib/python3.11/dist-packages (from pandas_datareader) (2.2.2)\n",
            "Requirement already satisfied: requests>=2.19.0 in /usr/local/lib/python3.11/dist-packages (from pandas_datareader) (2.32.3)\n",
            "Requirement already satisfied: numpy>=1.23.2 in /usr/local/lib/python3.11/dist-packages (from pandas>=0.23->pandas_datareader) (2.0.2)\n",
            "Requirement already satisfied: python-dateutil>=2.8.2 in /usr/local/lib/python3.11/dist-packages (from pandas>=0.23->pandas_datareader) (2.8.2)\n",
            "Requirement already satisfied: pytz>=2020.1 in /usr/local/lib/python3.11/dist-packages (from pandas>=0.23->pandas_datareader) (2025.1)\n",
            "Requirement already satisfied: tzdata>=2022.7 in /usr/local/lib/python3.11/dist-packages (from pandas>=0.23->pandas_datareader) (2025.1)\n",
            "Requirement already satisfied: charset-normalizer<4,>=2 in /usr/local/lib/python3.11/dist-packages (from requests>=2.19.0->pandas_datareader) (3.4.1)\n",
            "Requirement already satisfied: idna<4,>=2.5 in /usr/local/lib/python3.11/dist-packages (from requests>=2.19.0->pandas_datareader) (3.10)\n",
            "Requirement already satisfied: urllib3<3,>=1.21.1 in /usr/local/lib/python3.11/dist-packages (from requests>=2.19.0->pandas_datareader) (2.3.0)\n",
            "Requirement already satisfied: certifi>=2017.4.17 in /usr/local/lib/python3.11/dist-packages (from requests>=2.19.0->pandas_datareader) (2025.1.31)\n",
            "Requirement already satisfied: six>=1.5 in /usr/local/lib/python3.11/dist-packages (from python-dateutil>=2.8.2->pandas>=0.23->pandas_datareader) (1.17.0)\n"
          ]
        }
      ]
    },
    {
      "cell_type": "code",
      "source": [
        "pd.core.common.is_list_like=pd.api.types.is_list_like\n",
        "import pandas_datareader as pdr"
      ],
      "metadata": {
        "id": "QOqXAczjTO-2"
      },
      "execution_count": 44,
      "outputs": []
    },
    {
      "cell_type": "code",
      "source": [
        "tesla=pd.read_csv('/content/drive/MyDrive/ESAA YB/dataset/tesla_stock_quandl.csv')\n",
        "print(tesla.head())"
      ],
      "metadata": {
        "colab": {
          "base_uri": "https://localhost:8080/"
        },
        "id": "Fh6d93EFUt-x",
        "outputId": "dfa901f3-b5ee-4f8e-8300-5057b5138f55"
      },
      "execution_count": 45,
      "outputs": [
        {
          "output_type": "stream",
          "name": "stdout",
          "text": [
            "         Date    Open    High     Low   Close      Volume  ExDividend  \\\n",
            "0  2018-03-27  304.00  304.27  277.18  279.18  13696168.0         0.0   \n",
            "1  2018-03-26  307.34  307.59  291.36  304.18   8324639.0         0.0   \n",
            "2  2018-03-23  311.25  311.61  300.45  301.54   6600538.0         0.0   \n",
            "3  2018-03-22  313.89  318.82  308.18  309.10   4914307.0         0.0   \n",
            "4  2018-03-21  310.25  322.44  310.19  316.53   5927881.0         0.0   \n",
            "\n",
            "   SplitRatio  AdjOpen  AdjHigh  AdjLow  AdjClose   AdjVolume  \n",
            "0         1.0   304.00   304.27  277.18    279.18  13696168.0  \n",
            "1         1.0   307.34   307.59  291.36    304.18   8324639.0  \n",
            "2         1.0   311.25   311.61  300.45    301.54   6600538.0  \n",
            "3         1.0   313.89   318.82  308.18    309.10   4914307.0  \n",
            "4         1.0   310.25   322.44  310.19    316.53   5927881.0  \n"
          ]
        }
      ]
    },
    {
      "cell_type": "code",
      "source": [
        "tesla=pd.read_csv('/content/drive/MyDrive/ESAA YB/dataset/tesla_stock_quandl.csv',parse_dates=[0])\n",
        "print(tesla.info())"
      ],
      "metadata": {
        "id": "w17hPmmVUzxh",
        "colab": {
          "base_uri": "https://localhost:8080/"
        },
        "outputId": "8ff9fd2b-7fd7-40c3-9b92-de88be4d2337"
      },
      "execution_count": 46,
      "outputs": [
        {
          "output_type": "stream",
          "name": "stdout",
          "text": [
            "<class 'pandas.core.frame.DataFrame'>\n",
            "RangeIndex: 1949 entries, 0 to 1948\n",
            "Data columns (total 13 columns):\n",
            " #   Column      Non-Null Count  Dtype         \n",
            "---  ------      --------------  -----         \n",
            " 0   Date        1949 non-null   datetime64[ns]\n",
            " 1   Open        1949 non-null   float64       \n",
            " 2   High        1949 non-null   float64       \n",
            " 3   Low         1949 non-null   float64       \n",
            " 4   Close       1949 non-null   float64       \n",
            " 5   Volume      1949 non-null   float64       \n",
            " 6   ExDividend  1949 non-null   float64       \n",
            " 7   SplitRatio  1949 non-null   float64       \n",
            " 8   AdjOpen     1949 non-null   float64       \n",
            " 9   AdjHigh     1949 non-null   float64       \n",
            " 10  AdjLow      1949 non-null   float64       \n",
            " 11  AdjClose    1949 non-null   float64       \n",
            " 12  AdjVolume   1949 non-null   float64       \n",
            "dtypes: datetime64[ns](1), float64(12)\n",
            "memory usage: 198.1 KB\n",
            "None\n"
          ]
        }
      ]
    },
    {
      "cell_type": "code",
      "source": [
        "print(tesla.loc[(tesla.Date.dt.year==2010) & (tesla.Date.dt.month==6)])"
      ],
      "metadata": {
        "colab": {
          "base_uri": "https://localhost:8080/"
        },
        "id": "8jEStcQ1zSm9",
        "outputId": "d6db78b1-5417-449b-cede-9d889421d678"
      },
      "execution_count": 47,
      "outputs": [
        {
          "output_type": "stream",
          "name": "stdout",
          "text": [
            "           Date   Open     High    Low  Close      Volume  ExDividend  \\\n",
            "1947 2010-06-30  25.79  30.4192  23.30  23.83  17187100.0         0.0   \n",
            "1948 2010-06-29  19.00  25.0000  17.54  23.89  18766300.0         0.0   \n",
            "\n",
            "      SplitRatio  AdjOpen  AdjHigh  AdjLow  AdjClose   AdjVolume  \n",
            "1947         1.0    25.79  30.4192   23.30     23.83  17187100.0  \n",
            "1948         1.0    19.00  25.0000   17.54     23.89  18766300.0  \n"
          ]
        }
      ]
    },
    {
      "cell_type": "markdown",
      "source": [
        "**datetime 오브젝트와 인덱스 -- DatetimeIndex**"
      ],
      "metadata": {
        "id": "F0cd51ejz7Ne"
      }
    },
    {
      "cell_type": "code",
      "source": [
        "tesla.index=tesla['Date']\n",
        "print(tesla.index)"
      ],
      "metadata": {
        "colab": {
          "base_uri": "https://localhost:8080/"
        },
        "id": "KfbCD7ptz56v",
        "outputId": "969374d1-a49e-4385-e5c7-8b34712027f9"
      },
      "execution_count": 48,
      "outputs": [
        {
          "output_type": "stream",
          "name": "stdout",
          "text": [
            "DatetimeIndex(['2018-03-27', '2018-03-26', '2018-03-23', '2018-03-22',\n",
            "               '2018-03-21', '2018-03-20', '2018-03-19', '2018-03-16',\n",
            "               '2018-03-15', '2018-03-14',\n",
            "               ...\n",
            "               '2010-07-13', '2010-07-12', '2010-07-09', '2010-07-08',\n",
            "               '2010-07-07', '2010-07-06', '2010-07-02', '2010-07-01',\n",
            "               '2010-06-30', '2010-06-29'],\n",
            "              dtype='datetime64[ns]', name='Date', length=1949, freq=None)\n"
          ]
        }
      ]
    },
    {
      "cell_type": "code",
      "source": [
        "print(tesla.loc['2015'].iloc[:5,:5])"
      ],
      "metadata": {
        "colab": {
          "base_uri": "https://localhost:8080/"
        },
        "id": "pcxWNTCX0ZEE",
        "outputId": "3a32f87c-c8f0-4ac7-f024-9569b9149856"
      },
      "execution_count": 49,
      "outputs": [
        {
          "output_type": "stream",
          "name": "stdout",
          "text": [
            "                 Date    Open     High       Low   Close\n",
            "Date                                                    \n",
            "2015-12-31 2015-12-31  238.51  243.450  238.3700  240.01\n",
            "2015-12-30 2015-12-30  236.60  243.634  235.6707  238.09\n",
            "2015-12-29 2015-12-29  230.06  237.720  229.5470  237.19\n",
            "2015-12-28 2015-12-28  231.49  231.980  225.5400  228.95\n",
            "2015-12-24 2015-12-24  230.56  231.880  228.2800  230.57\n"
          ]
        }
      ]
    },
    {
      "cell_type": "code",
      "source": [
        "print(tesla.loc['2010-06'].iloc[:,:5])"
      ],
      "metadata": {
        "colab": {
          "base_uri": "https://localhost:8080/"
        },
        "id": "nzm7Jrkx0z3G",
        "outputId": "f8eb658a-b9c5-46be-fd38-6a90ea27e1a1"
      },
      "execution_count": 50,
      "outputs": [
        {
          "output_type": "stream",
          "name": "stdout",
          "text": [
            "                 Date   Open     High    Low  Close\n",
            "Date                                               \n",
            "2010-06-30 2010-06-30  25.79  30.4192  23.30  23.83\n",
            "2010-06-29 2010-06-29  19.00  25.0000  17.54  23.89\n"
          ]
        }
      ]
    },
    {
      "cell_type": "markdown",
      "source": [
        "시간 간격과 인덱스 -- TimedeltaIndex"
      ],
      "metadata": {
        "id": "meOe7bCK2TQj"
      }
    },
    {
      "cell_type": "code",
      "source": [
        "tesla['ref_date']=tesla['Date']-tesla['Date'].min()\n",
        "print(tesla.head())"
      ],
      "metadata": {
        "colab": {
          "base_uri": "https://localhost:8080/"
        },
        "id": "fovSJtLd2OK5",
        "outputId": "477fee20-73bd-4bc5-8339-b424d6d607c4"
      },
      "execution_count": 51,
      "outputs": [
        {
          "output_type": "stream",
          "name": "stdout",
          "text": [
            "                 Date    Open    High     Low   Close      Volume  ExDividend  \\\n",
            "Date                                                                            \n",
            "2018-03-27 2018-03-27  304.00  304.27  277.18  279.18  13696168.0         0.0   \n",
            "2018-03-26 2018-03-26  307.34  307.59  291.36  304.18   8324639.0         0.0   \n",
            "2018-03-23 2018-03-23  311.25  311.61  300.45  301.54   6600538.0         0.0   \n",
            "2018-03-22 2018-03-22  313.89  318.82  308.18  309.10   4914307.0         0.0   \n",
            "2018-03-21 2018-03-21  310.25  322.44  310.19  316.53   5927881.0         0.0   \n",
            "\n",
            "            SplitRatio  AdjOpen  AdjHigh  AdjLow  AdjClose   AdjVolume  \\\n",
            "Date                                                                     \n",
            "2018-03-27         1.0   304.00   304.27  277.18    279.18  13696168.0   \n",
            "2018-03-26         1.0   307.34   307.59  291.36    304.18   8324639.0   \n",
            "2018-03-23         1.0   311.25   311.61  300.45    301.54   6600538.0   \n",
            "2018-03-22         1.0   313.89   318.82  308.18    309.10   4914307.0   \n",
            "2018-03-21         1.0   310.25   322.44  310.19    316.53   5927881.0   \n",
            "\n",
            "            ref_date  \n",
            "Date                  \n",
            "2018-03-27 2828 days  \n",
            "2018-03-26 2827 days  \n",
            "2018-03-23 2824 days  \n",
            "2018-03-22 2823 days  \n",
            "2018-03-21 2822 days  \n"
          ]
        }
      ]
    },
    {
      "cell_type": "code",
      "source": [
        "tesla.index=tesla['ref_date']\n",
        "print(tesla.iloc[:5,:5])"
      ],
      "metadata": {
        "colab": {
          "base_uri": "https://localhost:8080/"
        },
        "id": "mwKAzDg02t1f",
        "outputId": "d396485b-66f8-4a01-d9c7-3080e6897c44"
      },
      "execution_count": 52,
      "outputs": [
        {
          "output_type": "stream",
          "name": "stdout",
          "text": [
            "                Date    Open    High     Low   Close\n",
            "ref_date                                            \n",
            "2828 days 2018-03-27  304.00  304.27  277.18  279.18\n",
            "2827 days 2018-03-26  307.34  307.59  291.36  304.18\n",
            "2824 days 2018-03-23  311.25  311.61  300.45  301.54\n",
            "2823 days 2018-03-22  313.89  318.82  308.18  309.10\n",
            "2822 days 2018-03-21  310.25  322.44  310.19  316.53\n"
          ]
        }
      ]
    },
    {
      "cell_type": "code",
      "source": [
        "print(tesla.loc['5 days':].iloc[:5,:5])"
      ],
      "metadata": {
        "colab": {
          "base_uri": "https://localhost:8080/"
        },
        "id": "eWLLnX6B21cC",
        "outputId": "8bafaa61-bf96-45d3-8581-fe528e00804e"
      },
      "execution_count": 53,
      "outputs": [
        {
          "output_type": "stream",
          "name": "stdout",
          "text": [
            "               Date   Open     High    Low  Close\n",
            "ref_date                                         \n",
            "3 days   2010-07-02  23.00  23.1000  18.71  19.20\n",
            "2 days   2010-07-01  25.00  25.9200  20.27  21.96\n",
            "1 days   2010-06-30  25.79  30.4192  23.30  23.83\n",
            "0 days   2010-06-29  19.00  25.0000  17.54  23.89\n"
          ]
        }
      ]
    },
    {
      "cell_type": "markdown",
      "source": [
        "**시간 범위와 인덱스**\n"
      ],
      "metadata": {
        "id": "SA8X0vHV3JO-"
      }
    },
    {
      "cell_type": "markdown",
      "source": [
        "시간 범위 생성해 인덱스로 지정하기"
      ],
      "metadata": {
        "id": "_TsUbs_J3MtA"
      }
    },
    {
      "cell_type": "code",
      "source": [
        "ebola=pd.read_csv('/content/drive/MyDrive/ESAA YB/dataset/country_timeseries.csv',parse_dates=[0])\n",
        "print(ebola.iloc[:5,:5])"
      ],
      "metadata": {
        "colab": {
          "base_uri": "https://localhost:8080/"
        },
        "id": "Ok9ZfeCE3Awv",
        "outputId": "ddde95ef-fb32-474f-b6fb-c304db7be6ac"
      },
      "execution_count": 54,
      "outputs": [
        {
          "output_type": "stream",
          "name": "stdout",
          "text": [
            "        Date  Day  Cases_Guinea  Cases_Liberia  Cases_SierraLeone\n",
            "0 2015-01-05  289        2776.0            NaN            10030.0\n",
            "1 2015-01-04  288        2775.0            NaN             9780.0\n",
            "2 2015-01-03  287        2769.0         8166.0             9722.0\n",
            "3 2015-01-02  286           NaN         8157.0                NaN\n",
            "4 2014-12-31  284        2730.0         8115.0             9633.0\n"
          ]
        }
      ]
    },
    {
      "cell_type": "code",
      "source": [
        "print(ebola.iloc[-5:,:5])"
      ],
      "metadata": {
        "colab": {
          "base_uri": "https://localhost:8080/"
        },
        "id": "3l0Uk8p7302T",
        "outputId": "2cc55c67-7fb5-4444-a49c-95d22532d0c4"
      },
      "execution_count": 55,
      "outputs": [
        {
          "output_type": "stream",
          "name": "stdout",
          "text": [
            "          Date  Day  Cases_Guinea  Cases_Liberia  Cases_SierraLeone\n",
            "117 2014-03-27    5         103.0            8.0                6.0\n",
            "118 2014-03-26    4          86.0            NaN                NaN\n",
            "119 2014-03-25    3          86.0            NaN                NaN\n",
            "120 2014-03-24    2          86.0            NaN                NaN\n",
            "121 2014-03-22    0          49.0            NaN                NaN\n"
          ]
        }
      ]
    },
    {
      "cell_type": "code",
      "source": [
        "head_range=pd.date_range(start='2014-12-31',end='2015-01-05')\n",
        "print(head_range)"
      ],
      "metadata": {
        "colab": {
          "base_uri": "https://localhost:8080/"
        },
        "id": "GZeQQ6Lr35H1",
        "outputId": "b6018885-07e0-4f97-b642-aba418219bad"
      },
      "execution_count": 56,
      "outputs": [
        {
          "output_type": "stream",
          "name": "stdout",
          "text": [
            "DatetimeIndex(['2014-12-31', '2015-01-01', '2015-01-02', '2015-01-03',\n",
            "               '2015-01-04', '2015-01-05'],\n",
            "              dtype='datetime64[ns]', freq='D')\n"
          ]
        }
      ]
    },
    {
      "cell_type": "code",
      "source": [
        "ebola_5=ebola.head()\n",
        "ebola_5.index=ebola_5['Date']\n",
        "ebola_5.reindex(head_range)\n",
        "print(ebola_5.iloc[:5,:5])"
      ],
      "metadata": {
        "colab": {
          "base_uri": "https://localhost:8080/"
        },
        "id": "pWK7fsBR4BYU",
        "outputId": "005bf3f3-2b51-4c77-9bd9-085d8484ca97"
      },
      "execution_count": 57,
      "outputs": [
        {
          "output_type": "stream",
          "name": "stdout",
          "text": [
            "                 Date  Day  Cases_Guinea  Cases_Liberia  Cases_SierraLeone\n",
            "Date                                                                      \n",
            "2015-01-05 2015-01-05  289        2776.0            NaN            10030.0\n",
            "2015-01-04 2015-01-04  288        2775.0            NaN             9780.0\n",
            "2015-01-03 2015-01-03  287        2769.0         8166.0             9722.0\n",
            "2015-01-02 2015-01-02  286           NaN         8157.0                NaN\n",
            "2014-12-31 2014-12-31  284        2730.0         8115.0             9633.0\n"
          ]
        }
      ]
    },
    {
      "cell_type": "markdown",
      "source": [
        "**시간 범위 수정하고 데이터 밀어내기 -- shift 메서드**"
      ],
      "metadata": {
        "id": "ECMyzN_qXu0I"
      }
    },
    {
      "cell_type": "markdown",
      "source": [
        "에볼라의 확산 속도 비교하기"
      ],
      "metadata": {
        "id": "FxNJygzFXzbC"
      }
    },
    {
      "cell_type": "code",
      "source": [
        "import matplotlib.pyplot as plt\n",
        "\n",
        "ebola.index=ebola['Date']\n",
        "\n",
        "fig,ax=plt.subplots()\n",
        "ax=ebola.iloc[0:,1:].plot(ax=ax)\n",
        "ax.legend(fontsize=7,loc=2,borderaxespad=0.)\n",
        "plt.show()"
      ],
      "metadata": {
        "colab": {
          "base_uri": "https://localhost:8080/",
          "height": 433
        },
        "id": "DSGRaCaO4UoQ",
        "outputId": "4db3519a-9be3-4222-a225-e9cbe6deebc4"
      },
      "execution_count": 59,
      "outputs": [
        {
          "output_type": "display_data",
          "data": {
            "text/plain": [
              "<Figure size 640x480 with 1 Axes>"
            ],
            "image/png": "[encoded data removed]"
          },
          "metadata": {}
        }
      ]
    },
    {
      "cell_type": "code",
      "source": [
        "ebola_sub=ebola[['Day','Cases_Guinea','Cases_Liberia']]\n",
        "print(ebola_sub.tail(10))"
      ],
      "metadata": {
        "colab": {
          "base_uri": "https://localhost:8080/"
        },
        "id": "5GHpRtsEZThU",
        "outputId": "6b695859-5950-4e97-f784-d58173beba6f"
      },
      "execution_count": 60,
      "outputs": [
        {
          "output_type": "stream",
          "name": "stdout",
          "text": [
            "            Day  Cases_Guinea  Cases_Liberia\n",
            "Date                                        \n",
            "2014-04-04   13         143.0           18.0\n",
            "2014-04-01   10         127.0            8.0\n",
            "2014-03-31    9         122.0            8.0\n",
            "2014-03-29    7         112.0            7.0\n",
            "2014-03-28    6         112.0            3.0\n",
            "2014-03-27    5         103.0            8.0\n",
            "2014-03-26    4          86.0            NaN\n",
            "2014-03-25    3          86.0            NaN\n",
            "2014-03-24    2          86.0            NaN\n",
            "2014-03-22    0          49.0            NaN\n"
          ]
        }
      ]
    },
    {
      "cell_type": "code",
      "source": [
        "ebola=pd.read_csv('/content/drive/MyDrive/ESAA YB/dataset/country_timeseries.csv',parse_dates=[0])\n",
        "\n",
        "print(ebola.head().iloc[:,:5])"
      ],
      "metadata": {
        "colab": {
          "base_uri": "https://localhost:8080/"
        },
        "id": "-VLUWu-4bQA6",
        "outputId": "d102fe1b-2d14-4a87-9e99-21cb2e70bb1b"
      },
      "execution_count": 61,
      "outputs": [
        {
          "output_type": "stream",
          "name": "stdout",
          "text": [
            "        Date  Day  Cases_Guinea  Cases_Liberia  Cases_SierraLeone\n",
            "0 2015-01-05  289        2776.0            NaN            10030.0\n",
            "1 2015-01-04  288        2775.0            NaN             9780.0\n",
            "2 2015-01-03  287        2769.0         8166.0             9722.0\n",
            "3 2015-01-02  286           NaN         8157.0                NaN\n",
            "4 2014-12-31  284        2730.0         8115.0             9633.0\n"
          ]
        }
      ]
    },
    {
      "cell_type": "code",
      "source": [
        "print(ebola.tail().iloc[:,:5])"
      ],
      "metadata": {
        "colab": {
          "base_uri": "https://localhost:8080/"
        },
        "id": "ZPLx-1Hzb7-q",
        "outputId": "2b38fb63-b282-4df9-fed2-5480121bf75d"
      },
      "execution_count": 62,
      "outputs": [
        {
          "output_type": "stream",
          "name": "stdout",
          "text": [
            "          Date  Day  Cases_Guinea  Cases_Liberia  Cases_SierraLeone\n",
            "117 2014-03-27    5         103.0            8.0                6.0\n",
            "118 2014-03-26    4          86.0            NaN                NaN\n",
            "119 2014-03-25    3          86.0            NaN                NaN\n",
            "120 2014-03-24    2          86.0            NaN                NaN\n",
            "121 2014-03-22    0          49.0            NaN                NaN\n"
          ]
        }
      ]
    },
    {
      "cell_type": "code",
      "source": [
        "ebola.index=ebola['Date']\n",
        "new_idx=pd.date_range(ebola.index.min(),ebola.index.max())"
      ],
      "metadata": {
        "id": "CWBg88RycBwC"
      },
      "execution_count": 63,
      "outputs": []
    },
    {
      "cell_type": "code",
      "source": [
        "print(new_idx)"
      ],
      "metadata": {
        "colab": {
          "base_uri": "https://localhost:8080/"
        },
        "id": "r4roJt4aco8V",
        "outputId": "ed824bbc-fba8-4c29-8ed2-bcfff961bb5e"
      },
      "execution_count": 64,
      "outputs": [
        {
          "output_type": "stream",
          "name": "stdout",
          "text": [
            "DatetimeIndex(['2014-03-22', '2014-03-23', '2014-03-24', '2014-03-25',\n",
            "               '2014-03-26', '2014-03-27', '2014-03-28', '2014-03-29',\n",
            "               '2014-03-30', '2014-03-31',\n",
            "               ...\n",
            "               '2014-12-27', '2014-12-28', '2014-12-29', '2014-12-30',\n",
            "               '2014-12-31', '2015-01-01', '2015-01-02', '2015-01-03',\n",
            "               '2015-01-04', '2015-01-05'],\n",
            "              dtype='datetime64[ns]', length=290, freq='D')\n"
          ]
        }
      ]
    },
    {
      "cell_type": "code",
      "source": [
        "new_idx=reversed(new_idx)"
      ],
      "metadata": {
        "id": "AIZ5kpcJcqk4"
      },
      "execution_count": 65,
      "outputs": []
    },
    {
      "cell_type": "code",
      "source": [
        "ebola=ebola.reindex(new_idx)"
      ],
      "metadata": {
        "id": "Z7pOPgeccvwf"
      },
      "execution_count": 66,
      "outputs": []
    },
    {
      "cell_type": "code",
      "source": [
        "print(ebola.head().iloc[:,:5])"
      ],
      "metadata": {
        "colab": {
          "base_uri": "https://localhost:8080/"
        },
        "id": "HnNhSJpeduWY",
        "outputId": "41934576-45b8-4542-c4fc-e5f2e80db668"
      },
      "execution_count": 67,
      "outputs": [
        {
          "output_type": "stream",
          "name": "stdout",
          "text": [
            "                 Date    Day  Cases_Guinea  Cases_Liberia  Cases_SierraLeone\n",
            "Date                                                                        \n",
            "2015-01-05 2015-01-05  289.0        2776.0            NaN            10030.0\n",
            "2015-01-04 2015-01-04  288.0        2775.0            NaN             9780.0\n",
            "2015-01-03 2015-01-03  287.0        2769.0         8166.0             9722.0\n",
            "2015-01-02 2015-01-02  286.0           NaN         8157.0                NaN\n",
            "2015-01-01        NaT    NaN           NaN            NaN                NaN\n"
          ]
        }
      ]
    },
    {
      "cell_type": "code",
      "source": [
        "print(ebola.tail().iloc[:,:5])"
      ],
      "metadata": {
        "colab": {
          "base_uri": "https://localhost:8080/"
        },
        "id": "MHZOwD__dxGW",
        "outputId": "329e3127-7663-4cae-819c-cd91cd459e2a"
      },
      "execution_count": 68,
      "outputs": [
        {
          "output_type": "stream",
          "name": "stdout",
          "text": [
            "                 Date  Day  Cases_Guinea  Cases_Liberia  Cases_SierraLeone\n",
            "Date                                                                      \n",
            "2014-03-26 2014-03-26  4.0          86.0            NaN                NaN\n",
            "2014-03-25 2014-03-25  3.0          86.0            NaN                NaN\n",
            "2014-03-24 2014-03-24  2.0          86.0            NaN                NaN\n",
            "2014-03-23        NaT  NaN           NaN            NaN                NaN\n",
            "2014-03-22 2014-03-22  0.0          49.0            NaN                NaN\n"
          ]
        }
      ]
    },
    {
      "cell_type": "code",
      "source": [
        "last_valid=ebola.apply(pd.Series.last_valid_index)\n",
        "print(last_valid)"
      ],
      "metadata": {
        "colab": {
          "base_uri": "https://localhost:8080/"
        },
        "id": "4cVLPToOd9br",
        "outputId": "329d2d6d-9d04-45ea-c2b0-2f859ae73f4c"
      },
      "execution_count": 69,
      "outputs": [
        {
          "output_type": "stream",
          "name": "stdout",
          "text": [
            "Date                  2014-03-22\n",
            "Day                   2014-03-22\n",
            "Cases_Guinea          2014-03-22\n",
            "Cases_Liberia         2014-03-27\n",
            "Cases_SierraLeone     2014-03-27\n",
            "Cases_Nigeria         2014-07-23\n",
            "Cases_Senegal         2014-08-31\n",
            "Cases_UnitedStates    2014-10-01\n",
            "Cases_Spain           2014-10-08\n",
            "Cases_Mali            2014-10-22\n",
            "Deaths_Guinea         2014-03-22\n",
            "Deaths_Liberia        2014-03-27\n",
            "Deaths_SierraLeone    2014-03-27\n",
            "Deaths_Nigeria        2014-07-23\n",
            "Deaths_Senegal        2014-09-07\n",
            "Deaths_UnitedStates   2014-10-01\n",
            "Deaths_Spain          2014-10-08\n",
            "Deaths_Mali           2014-10-22\n",
            "dtype: datetime64[ns]\n"
          ]
        }
      ]
    },
    {
      "cell_type": "code",
      "source": [
        "first_valid=ebola.apply(pd.Series.first_valid_index)\n",
        "print(first_valid)"
      ],
      "metadata": {
        "colab": {
          "base_uri": "https://localhost:8080/"
        },
        "id": "OGOAPcwneXn_",
        "outputId": "fd7e3b7c-c185-40e9-ede4-d9dd02a9c222"
      },
      "execution_count": 70,
      "outputs": [
        {
          "output_type": "stream",
          "name": "stdout",
          "text": [
            "Date                  2015-01-05\n",
            "Day                   2015-01-05\n",
            "Cases_Guinea          2015-01-05\n",
            "Cases_Liberia         2015-01-03\n",
            "Cases_SierraLeone     2015-01-05\n",
            "Cases_Nigeria         2014-12-07\n",
            "Cases_Senegal         2014-12-07\n",
            "Cases_UnitedStates    2014-12-07\n",
            "Cases_Spain           2014-12-07\n",
            "Cases_Mali            2014-12-07\n",
            "Deaths_Guinea         2015-01-05\n",
            "Deaths_Liberia        2015-01-03\n",
            "Deaths_SierraLeone    2015-01-05\n",
            "Deaths_Nigeria        2014-12-07\n",
            "Deaths_Senegal        2014-12-07\n",
            "Deaths_UnitedStates   2014-12-07\n",
            "Deaths_Spain          2014-12-07\n",
            "Deaths_Mali           2014-12-07\n",
            "dtype: datetime64[ns]\n"
          ]
        }
      ]
    },
    {
      "cell_type": "code",
      "source": [
        "earliest_date=ebola.index.min()\n",
        "print(earliest_date)"
      ],
      "metadata": {
        "colab": {
          "base_uri": "https://localhost:8080/"
        },
        "id": "ufQ_lk0QerxB",
        "outputId": "a814be34-8c1c-4aea-cbef-f53f9fd68555"
      },
      "execution_count": 71,
      "outputs": [
        {
          "output_type": "stream",
          "name": "stdout",
          "text": [
            "2014-03-22 00:00:00\n"
          ]
        }
      ]
    },
    {
      "cell_type": "code",
      "source": [
        "shift_values=last_valid - earliest_date\n",
        "print(shift_values)"
      ],
      "metadata": {
        "colab": {
          "base_uri": "https://localhost:8080/"
        },
        "id": "XzYgNaqLe4U9",
        "outputId": "09131400-67e3-45a5-fb91-d0b1e0c339ca"
      },
      "execution_count": 72,
      "outputs": [
        {
          "output_type": "stream",
          "name": "stdout",
          "text": [
            "Date                    0 days\n",
            "Day                     0 days\n",
            "Cases_Guinea            0 days\n",
            "Cases_Liberia           5 days\n",
            "Cases_SierraLeone       5 days\n",
            "Cases_Nigeria         123 days\n",
            "Cases_Senegal         162 days\n",
            "Cases_UnitedStates    193 days\n",
            "Cases_Spain           200 days\n",
            "Cases_Mali            214 days\n",
            "Deaths_Guinea           0 days\n",
            "Deaths_Liberia          5 days\n",
            "Deaths_SierraLeone      5 days\n",
            "Deaths_Nigeria        123 days\n",
            "Deaths_Senegal        169 days\n",
            "Deaths_UnitedStates   193 days\n",
            "Deaths_Spain          200 days\n",
            "Deaths_Mali           214 days\n",
            "dtype: timedelta64[ns]\n"
          ]
        }
      ]
    },
    {
      "cell_type": "code",
      "source": [
        "ebola_dict={}\n",
        "for idx, col in enumerate(ebola):\n",
        "  d=shift_values[idx].days\n",
        "  shifted=ebola[col].shift(d)\n",
        "  ebola_dict[col]=shifted"
      ],
      "metadata": {
        "colab": {
          "base_uri": "https://localhost:8080/"
        },
        "id": "rBcrjdJJe-Dq",
        "outputId": "ba6580db-97df-4973-f79e-44b3b48c8ecc"
      },
      "execution_count": 73,
      "outputs": [
        {
          "output_type": "stream",
          "name": "stderr",
          "text": [
            "<ipython-input-73-47355602ae16>:3: FutureWarning: Series.__getitem__ treating keys as positions is deprecated. In a future version, integer keys will always be treated as labels (consistent with DataFrame behavior). To access a value by position, use `ser.iloc[pos]`\n",
            "  d=shift_values[idx].days\n"
          ]
        }
      ]
    },
    {
      "cell_type": "code",
      "source": [
        "ebola_shift=pd.DataFrame(ebola_dict)"
      ],
      "metadata": {
        "id": "kfQfsFmdfRa9"
      },
      "execution_count": 75,
      "outputs": []
    },
    {
      "cell_type": "code",
      "source": [
        "print(ebola_shift.tail())"
      ],
      "metadata": {
        "colab": {
          "base_uri": "https://localhost:8080/"
        },
        "id": "CS_FEp5sgMyN",
        "outputId": "0745b457-97bf-40b2-e2c9-b782bdaf211e"
      },
      "execution_count": 76,
      "outputs": [
        {
          "output_type": "stream",
          "name": "stdout",
          "text": [
            "                 Date  Day  Cases_Guinea  Cases_Liberia  Cases_SierraLeone  \\\n",
            "Date                                                                         \n",
            "2014-03-26 2014-03-26  4.0          86.0            8.0                2.0   \n",
            "2014-03-25 2014-03-25  3.0          86.0            NaN                NaN   \n",
            "2014-03-24 2014-03-24  2.0          86.0            7.0                NaN   \n",
            "2014-03-23        NaT  NaN           NaN            3.0                2.0   \n",
            "2014-03-22 2014-03-22  0.0          49.0            8.0                6.0   \n",
            "\n",
            "            Cases_Nigeria  Cases_Senegal  Cases_UnitedStates  Cases_Spain  \\\n",
            "Date                                                                        \n",
            "2014-03-26            1.0            NaN                 1.0          1.0   \n",
            "2014-03-25            NaN            NaN                 NaN          NaN   \n",
            "2014-03-24            NaN            NaN                 NaN          NaN   \n",
            "2014-03-23            NaN            NaN                 NaN          NaN   \n",
            "2014-03-22            0.0            1.0                 1.0          1.0   \n",
            "\n",
            "            Cases_Mali  Deaths_Guinea  Deaths_Liberia  Deaths_SierraLeone  \\\n",
            "Date                                                                        \n",
            "2014-03-26         NaN           62.0             4.0                 2.0   \n",
            "2014-03-25         NaN           60.0             NaN                 NaN   \n",
            "2014-03-24         NaN           59.0             2.0                 NaN   \n",
            "2014-03-23         NaN            NaN             3.0                 2.0   \n",
            "2014-03-22         1.0           29.0             6.0                 5.0   \n",
            "\n",
            "            Deaths_Nigeria  Deaths_Senegal  Deaths_UnitedStates  Deaths_Spain  \\\n",
            "Date                                                                            \n",
            "2014-03-26             1.0             NaN                  0.0           1.0   \n",
            "2014-03-25             NaN             NaN                  NaN           NaN   \n",
            "2014-03-24             NaN             NaN                  NaN           NaN   \n",
            "2014-03-23             NaN             NaN                  NaN           NaN   \n",
            "2014-03-22             0.0             0.0                  0.0           1.0   \n",
            "\n",
            "            Deaths_Mali  \n",
            "Date                     \n",
            "2014-03-26          NaN  \n",
            "2014-03-25          NaN  \n",
            "2014-03-24          NaN  \n",
            "2014-03-23          NaN  \n",
            "2014-03-22          1.0  \n"
          ]
        }
      ]
    },
    {
      "cell_type": "code",
      "source": [
        "ebola_shift.index=ebola_shift['Day']\n",
        "ebola_shift=ebola_shift.drop(['Date','Day'],axis=1)\n",
        "\n",
        "print(ebola_shift.tail())"
      ],
      "metadata": {
        "colab": {
          "base_uri": "https://localhost:8080/"
        },
        "id": "D-G8KEjBgT8D",
        "outputId": "bed14d98-ec0b-45bd-e3fc-52531028a59b"
      },
      "execution_count": 78,
      "outputs": [
        {
          "output_type": "stream",
          "name": "stdout",
          "text": [
            "     Cases_Guinea  Cases_Liberia  Cases_SierraLeone  Cases_Nigeria  \\\n",
            "Day                                                                  \n",
            "4.0          86.0            8.0                2.0            1.0   \n",
            "3.0          86.0            NaN                NaN            NaN   \n",
            "2.0          86.0            7.0                NaN            NaN   \n",
            "NaN           NaN            3.0                2.0            NaN   \n",
            "0.0          49.0            8.0                6.0            0.0   \n",
            "\n",
            "     Cases_Senegal  Cases_UnitedStates  Cases_Spain  Cases_Mali  \\\n",
            "Day                                                               \n",
            "4.0            NaN                 1.0          1.0         NaN   \n",
            "3.0            NaN                 NaN          NaN         NaN   \n",
            "2.0            NaN                 NaN          NaN         NaN   \n",
            "NaN            NaN                 NaN          NaN         NaN   \n",
            "0.0            1.0                 1.0          1.0         1.0   \n",
            "\n",
            "     Deaths_Guinea  Deaths_Liberia  Deaths_SierraLeone  Deaths_Nigeria  \\\n",
            "Day                                                                      \n",
            "4.0           62.0             4.0                 2.0             1.0   \n",
            "3.0           60.0             NaN                 NaN             NaN   \n",
            "2.0           59.0             2.0                 NaN             NaN   \n",
            "NaN            NaN             3.0                 2.0             NaN   \n",
            "0.0           29.0             6.0                 5.0             0.0   \n",
            "\n",
            "     Deaths_Senegal  Deaths_UnitedStates  Deaths_Spain  Deaths_Mali  \n",
            "Day                                                                  \n",
            "4.0             NaN                  0.0           1.0          NaN  \n",
            "3.0             NaN                  NaN           NaN          NaN  \n",
            "2.0             NaN                  NaN           NaN          NaN  \n",
            "NaN             NaN                  NaN           NaN          NaN  \n",
            "0.0             0.0                  0.0           1.0          1.0  \n"
          ]
        }
      ]
    },
    {
      "cell_type": "code",
      "source": [
        "fig,ax=plt.subplots()\n",
        "ax=ebola_shift.iloc[:,:].plot(ax=ax)\n",
        "ax.legend(fontsize=7,loc=2,borderaxespad=0.)\n",
        "plt.show()"
      ],
      "metadata": {
        "colab": {
          "base_uri": "https://localhost:8080/",
          "height": 449
        },
        "id": "kWgeAvnygj-X",
        "outputId": "c52137af-bbc2-408f-d4ad-96054e0db294"
      },
      "execution_count": 79,
      "outputs": [
        {
          "output_type": "display_data",
          "data": {
            "text/plain": [
              "<Figure size 640x480 with 1 Axes>"
            ],
            "image/png": "[encoded data removed]"
          },
          "metadata": {}
        }
      ]
    }
  ]
}