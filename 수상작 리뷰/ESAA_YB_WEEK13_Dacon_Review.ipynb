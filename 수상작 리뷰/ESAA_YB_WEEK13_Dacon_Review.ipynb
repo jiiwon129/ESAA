{
  "nbformat": 4,
  "nbformat_minor": 0,
  "metadata": {
    "colab": {
      "provenance": [],
      "authorship_tag": "ABX9TyOlHAo3MUzZhe8FlwwLoC/v",
      "include_colab_link": true
    },
    "kernelspec": {
      "name": "python3",
      "display_name": "Python 3"
    },
    "language_info": {
      "name": "python"
    }
  },
  "cells": [
    {
      "cell_type": "markdown",
      "metadata": {
        "id": "view-in-github",
        "colab_type": "text"
      },
      "source": [
        "<a href=\"https://colab.research.google.com/github/jiiwon129/ESAA/blob/main/ESAA_YB_WEEK13_Dacon_Review.ipynb\" target=\"_parent\"><img src=\"https://colab.research.google.com/assets/colab-badge.svg\" alt=\"Open In Colab\"/></a>"
      ]
    },
    {
      "cell_type": "markdown",
      "source": [
        "### **제 2회 코스포 x 데이콘 도서 추천 알고리즘 AI경진대회 채용**\n",
        "\n",
        "https://dacon.io/competitions/official/236093/overview/description"
      ],
      "metadata": {
        "id": "-tVCf07R0_A9"
      }
    },
    {
      "cell_type": "markdown",
      "source": [
        "참고 수상작:\n",
        "\n",
        "https://dacon.io/competitions/official/236093/codeshare/8403?page=1&dtype=recent"
      ],
      "metadata": {
        "id": "j7Vl8Nsh289i"
      }
    },
    {
      "cell_type": "markdown",
      "source": [
        "#### **주제 설명**"
      ],
      "metadata": {
        "id": "3cn2b5a33CP_"
      }
    },
    {
      "cell_type": "markdown",
      "source": [
        "도서 추천 알고리즘 AI 모델 개발\n",
        "- 유저 정보와 도서 정보를 바탕으로 유저가 부여한 도서 평점을 회귀 예측하는 AI 모델 개발"
      ],
      "metadata": {
        "id": "gNVa4uKB3Er_"
      }
    },
    {
      "cell_type": "markdown",
      "source": [
        "#### **데이터 설명**"
      ],
      "metadata": {
        "id": "92PKxyVH3NoY"
      }
    },
    {
      "cell_type": "markdown",
      "source": [
        "1. train.csv [파일]\n",
        "- ID : 샘플 고유 ID\n",
        "- User-ID : 유저 고유 ID\n",
        "= Book-ID : 도서 고유 ID\n",
        "- 유저 정보\n",
        "  - Age : 나이\n",
        "  - Location : 지역\n",
        "- 도서 정보\n",
        "  - Book-Title : 도서 명\n",
        "  - Book-Author : 도서 저자\n",
        "  - Year-Of-Publication : 도서 출판 년도 (-1일 경우 결측 혹은 알 수 없음)\n",
        "  - Publisher : 출판사\n",
        "  - Book-Rating : 유저가 도서에 부여한 평점 (0점 ~ 10점)\n",
        "    - 단, 0점인 경우에는 유저가 해당 도서에 관심이 없고 관련이 없는 경우\n",
        "\n",
        "\n",
        "2. test.csv [파일]\n",
        "- ID : 샘플 고유 ID\n",
        "- User-ID : 유저 고유 ID\n",
        "- Book-ID : 도서 고유 ID\n",
        "- 유저 정보\n",
        "  - Age : 나이\n",
        "  - Location : 지역\n",
        "- 도서 정보\n",
        "  - Book-Title : 도서 명\n",
        "  - Book-Author : 도서 저자\n",
        "  - Year-Of-Publication : 도서 출판 년도 (-1일 경우 결측 혹은 알 수 없음)\n",
        "  - Publisher : 출판사\n",
        "\n",
        "\n",
        "3. sample_submission.csv [제출양식]\n",
        "- ID : 샘플 고유 ID\n",
        "- Book-Rating : 예측한 유저가 도서에 부여할 평점\n",
        "  - 단, 0점인 경우에는 유저가 해당 도서에 관심이 없고 관련이 없는 경우"
      ],
      "metadata": {
        "id": "FCUIdFDe3PyK"
      }
    },
    {
      "cell_type": "markdown",
      "source": [
        "#### **EDA & Feature Engineering**"
      ],
      "metadata": {
        "id": "FRNmaamd4DtC"
      }
    },
    {
      "cell_type": "markdown",
      "source": [
        "Location, Book-title, Book-Author, Publisher\n",
        "- 좌우 공백 제거\n",
        "- 특수문자 제거\n",
        "- 다중 공백 제거\n",
        "- 대문자를 소문자로 변환\n",
        "\n",
        "1. Location\n",
        "  - city, state, country 3개의 변수로 분리\n",
        "2. Age\n",
        "  - 0~3세는 하나로 범주화\n",
        "  - ~25세까지 미국 기준 초-중-고-대학생 나이로 범주화\n",
        "  - 나머지는 5살 단위로 범주화하여 파생변수 생성\n",
        "3. User-ID\n",
        "  - 책을 1회 구매한 유저를 'New' 변수로 생성하여 신규 유저 구분\n",
        "\n",
        "Label Encoding\n",
        "  - 범주형 변수 모두 LabelEncoding 적용\n",
        "    - Book-Author, Publisher, location1, location2, location3, Book-Title, User-ID, Age_fe(Age 범주화 파생변수)\n",
        "  - Train set에 존재하지 않은 Test set의 값은 -1로 라벨링\n",
        "  \n",
        "\n"
      ],
      "metadata": {
        "id": "Eak8j3vX4HeW"
      }
    },
    {
      "cell_type": "markdown",
      "source": [
        "#### **Modeling**"
      ],
      "metadata": {
        "id": "hlr3D6Gy5sa9"
      }
    },
    {
      "cell_type": "markdown",
      "source": [
        "[ 사용 모델 ] CatBoost (Regressor)\n",
        "\n",
        "- StratifiedKFold 적용 ( k = 10 )\n",
        "  - 10 Fold하여 각 모델 예측값의 평균 사용\n",
        "- Optuna 하이퍼파라미터 튜닝\n",
        "- Cat Feature 적용\n",
        "  - CatBoost에서 지원"
      ],
      "metadata": {
        "id": "s6LjYIc05u7v"
      }
    },
    {
      "cell_type": "markdown",
      "source": [
        "#### **차별점 및 배울점**"
      ],
      "metadata": {
        "id": "0M80dFKQ6R9l"
      }
    },
    {
      "cell_type": "markdown",
      "source": [
        "- Stratified KFold는 주로 분류 문제에서 사용되는 방식이지만, 제공 데이터에서 0 값이 많은 것을 고려하여 회귀 문제임에도 Stratified KFold를 적용한 점이 인상 깊었음\n",
        "\n",
        "- 데이터 전처리 과정에서 먼저 전체적으로 공백, 문자 변환 등을 진행하고 구체적으로 진행한 점\n",
        "  - 데이터의 나라가 어딘지 확인하고 이를 고려하여 나이 변수 범주화를 진행한 점이 인상 깊었음"
      ],
      "metadata": {
        "id": "ocFni5Jm6WrN"
      }
    }
  ]
}
